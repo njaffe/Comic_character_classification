{
 "cells": [
  {
   "cell_type": "markdown",
   "metadata": {},
   "source": [
    "Project 3 data cleaning"
   ]
  },
  {
   "cell_type": "code",
   "execution_count": 2,
   "metadata": {
    "ExecuteTime": {
     "end_time": "2020-10-21T00:08:36.846615Z",
     "start_time": "2020-10-21T00:08:36.646748Z"
    }
   },
   "outputs": [],
   "source": [
    "import pandas as pd\n",
    "import matplotlib.pyplot as plt\n",
    "import scipy.stats as scs\n",
    "import numpy as np\n",
    "import datetime\n",
    "import seaborn as sns\n",
    "\n",
    "from sklearn import svm, datasets\n",
    "from sklearn.linear_model import LogisticRegression\n",
    "from sklearn.neighbors import KNeighborsClassifier,KNeighborsRegressor\n",
    "from sklearn.model_selection import train_test_split, learning_curve, cross_val_score\n",
    "from sklearn.preprocessing import OneHotEncoder, StandardScaler, label_binarize, LabelEncoder\n",
    "from visualize import generate_moons_df, preprocess, plot_boundaries\n",
    "\n",
    "from sklearn.datasets import make_classification\n",
    "from sklearn.metrics import plot_confusion_matrix, confusion_matrix, plot_roc_curve, \\\n",
    "classification_report, mean_squared_error, r2_score, auc, \\\n",
    "precision_score, recall_score, precision_recall_curve,f1_score, fbeta_score, roc_curve\n",
    "from sklearn.multiclass import OneVsRestClassifier\n",
    "from sklearn.naive_bayes import GaussianNB\n",
    "from sklearn.svm import SVC\n",
    "from sklearn.tree import DecisionTreeClassifier\n",
    "from sklearn.ensemble import RandomForestClassifier\n",
    "from sklearn.inspection import permutation_importance\n",
    "\n",
    "from xgboost import XGBClassifier\n",
    "from xgboost import plot_importance\n",
    "import xgboost as xgb"
   ]
  },
  {
   "cell_type": "markdown",
   "metadata": {},
   "source": [
    "# Importing data"
   ]
  },
  {
   "cell_type": "code",
   "execution_count": 4,
   "metadata": {
    "ExecuteTime": {
     "end_time": "2020-10-16T01:55:39.074993Z",
     "start_time": "2020-10-16T01:55:38.993723Z"
    }
   },
   "outputs": [],
   "source": [
    "DC = pd.read_csv('dc-wikia-data.csv')\n",
    "marvel = pd.read_csv('marvel-wikia-data.csv')"
   ]
  },
  {
   "cell_type": "markdown",
   "metadata": {},
   "source": [
    "# Combining tables"
   ]
  },
  {
   "cell_type": "markdown",
   "metadata": {},
   "source": [
    "Do the column names match?"
   ]
  },
  {
   "cell_type": "code",
   "execution_count": 5,
   "metadata": {
    "ExecuteTime": {
     "end_time": "2020-10-16T01:55:41.483658Z",
     "start_time": "2020-10-16T01:55:41.479589Z"
    }
   },
   "outputs": [
    {
     "name": "stdout",
     "output_type": "stream",
     "text": [
      "True\n",
      "True\n",
      "True\n",
      "True\n",
      "True\n",
      "True\n",
      "True\n",
      "True\n",
      "True\n",
      "True\n",
      "True\n",
      "True\n",
      "False\n"
     ]
    }
   ],
   "source": [
    "for x,y in zip(DC.columns, marvel.columns):\n",
    "    print(x == y)"
   ]
  },
  {
   "cell_type": "markdown",
   "metadata": {},
   "source": [
    "Not quite."
   ]
  },
  {
   "cell_type": "code",
   "execution_count": 6,
   "metadata": {
    "ExecuteTime": {
     "end_time": "2020-10-16T01:55:42.398699Z",
     "start_time": "2020-10-16T01:55:42.394799Z"
    }
   },
   "outputs": [
    {
     "data": {
      "text/plain": [
       "('YEAR', 'Year')"
      ]
     },
     "execution_count": 6,
     "metadata": {},
     "output_type": "execute_result"
    }
   ],
   "source": [
    "DC.columns[-1], marvel.columns[-1]"
   ]
  },
  {
   "cell_type": "code",
   "execution_count": 7,
   "metadata": {
    "ExecuteTime": {
     "end_time": "2020-10-16T01:55:42.886403Z",
     "start_time": "2020-10-16T01:55:42.881225Z"
    }
   },
   "outputs": [
    {
     "data": {
      "text/plain": [
       "Index(['page_id', 'name', 'urlslug', 'ID', 'ALIGN', 'EYE', 'HAIR', 'SEX',\n",
       "       'GSM', 'ALIVE', 'APPEARANCES', 'FIRST APPEARANCE', 'YEAR'],\n",
       "      dtype='object')"
      ]
     },
     "execution_count": 7,
     "metadata": {},
     "output_type": "execute_result"
    }
   ],
   "source": [
    "marvel.rename(columns = {'Year': 'YEAR'}, inplace = True)\n",
    "\n",
    "marvel.columns"
   ]
  },
  {
   "cell_type": "code",
   "execution_count": 8,
   "metadata": {
    "ExecuteTime": {
     "end_time": "2020-10-16T01:55:43.746779Z",
     "start_time": "2020-10-16T01:55:43.729228Z"
    },
    "scrolled": true
   },
   "outputs": [
    {
     "data": {
      "text/html": [
       "<div>\n",
       "<style scoped>\n",
       "    .dataframe tbody tr th:only-of-type {\n",
       "        vertical-align: middle;\n",
       "    }\n",
       "\n",
       "    .dataframe tbody tr th {\n",
       "        vertical-align: top;\n",
       "    }\n",
       "\n",
       "    .dataframe thead th {\n",
       "        text-align: right;\n",
       "    }\n",
       "</style>\n",
       "<table border=\"1\" class=\"dataframe\">\n",
       "  <thead>\n",
       "    <tr style=\"text-align: right;\">\n",
       "      <th></th>\n",
       "      <th>page_id</th>\n",
       "      <th>name</th>\n",
       "      <th>urlslug</th>\n",
       "      <th>ID</th>\n",
       "      <th>ALIGN</th>\n",
       "      <th>EYE</th>\n",
       "      <th>HAIR</th>\n",
       "      <th>SEX</th>\n",
       "      <th>GSM</th>\n",
       "      <th>ALIVE</th>\n",
       "      <th>APPEARANCES</th>\n",
       "      <th>FIRST APPEARANCE</th>\n",
       "      <th>YEAR</th>\n",
       "      <th>is_marvel</th>\n",
       "    </tr>\n",
       "  </thead>\n",
       "  <tbody>\n",
       "    <tr>\n",
       "      <th>0</th>\n",
       "      <td>1678</td>\n",
       "      <td>Spider-Man (Peter Parker)</td>\n",
       "      <td>\\/Spider-Man_(Peter_Parker)</td>\n",
       "      <td>Secret Identity</td>\n",
       "      <td>Good Characters</td>\n",
       "      <td>Hazel Eyes</td>\n",
       "      <td>Brown Hair</td>\n",
       "      <td>Male Characters</td>\n",
       "      <td>NaN</td>\n",
       "      <td>Living Characters</td>\n",
       "      <td>4043.0</td>\n",
       "      <td>Aug-62</td>\n",
       "      <td>1962.0</td>\n",
       "      <td>1</td>\n",
       "    </tr>\n",
       "    <tr>\n",
       "      <th>1</th>\n",
       "      <td>7139</td>\n",
       "      <td>Captain America (Steven Rogers)</td>\n",
       "      <td>\\/Captain_America_(Steven_Rogers)</td>\n",
       "      <td>Public Identity</td>\n",
       "      <td>Good Characters</td>\n",
       "      <td>Blue Eyes</td>\n",
       "      <td>White Hair</td>\n",
       "      <td>Male Characters</td>\n",
       "      <td>NaN</td>\n",
       "      <td>Living Characters</td>\n",
       "      <td>3360.0</td>\n",
       "      <td>Mar-41</td>\n",
       "      <td>1941.0</td>\n",
       "      <td>1</td>\n",
       "    </tr>\n",
       "    <tr>\n",
       "      <th>2</th>\n",
       "      <td>64786</td>\n",
       "      <td>Wolverine (James \\\"Logan\\\" Howlett)</td>\n",
       "      <td>\\/Wolverine_(James_%22Logan%22_Howlett)</td>\n",
       "      <td>Public Identity</td>\n",
       "      <td>Neutral Characters</td>\n",
       "      <td>Blue Eyes</td>\n",
       "      <td>Black Hair</td>\n",
       "      <td>Male Characters</td>\n",
       "      <td>NaN</td>\n",
       "      <td>Living Characters</td>\n",
       "      <td>3061.0</td>\n",
       "      <td>Oct-74</td>\n",
       "      <td>1974.0</td>\n",
       "      <td>1</td>\n",
       "    </tr>\n",
       "    <tr>\n",
       "      <th>3</th>\n",
       "      <td>1868</td>\n",
       "      <td>Iron Man (Anthony \\\"Tony\\\" Stark)</td>\n",
       "      <td>\\/Iron_Man_(Anthony_%22Tony%22_Stark)</td>\n",
       "      <td>Public Identity</td>\n",
       "      <td>Good Characters</td>\n",
       "      <td>Blue Eyes</td>\n",
       "      <td>Black Hair</td>\n",
       "      <td>Male Characters</td>\n",
       "      <td>NaN</td>\n",
       "      <td>Living Characters</td>\n",
       "      <td>2961.0</td>\n",
       "      <td>Mar-63</td>\n",
       "      <td>1963.0</td>\n",
       "      <td>1</td>\n",
       "    </tr>\n",
       "    <tr>\n",
       "      <th>4</th>\n",
       "      <td>2460</td>\n",
       "      <td>Thor (Thor Odinson)</td>\n",
       "      <td>\\/Thor_(Thor_Odinson)</td>\n",
       "      <td>No Dual Identity</td>\n",
       "      <td>Good Characters</td>\n",
       "      <td>Blue Eyes</td>\n",
       "      <td>Blond Hair</td>\n",
       "      <td>Male Characters</td>\n",
       "      <td>NaN</td>\n",
       "      <td>Living Characters</td>\n",
       "      <td>2258.0</td>\n",
       "      <td>Nov-50</td>\n",
       "      <td>1950.0</td>\n",
       "      <td>1</td>\n",
       "    </tr>\n",
       "  </tbody>\n",
       "</table>\n",
       "</div>"
      ],
      "text/plain": [
       "   page_id                                 name  \\\n",
       "0     1678            Spider-Man (Peter Parker)   \n",
       "1     7139      Captain America (Steven Rogers)   \n",
       "2    64786  Wolverine (James \\\"Logan\\\" Howlett)   \n",
       "3     1868    Iron Man (Anthony \\\"Tony\\\" Stark)   \n",
       "4     2460                  Thor (Thor Odinson)   \n",
       "\n",
       "                                   urlslug                ID  \\\n",
       "0              \\/Spider-Man_(Peter_Parker)   Secret Identity   \n",
       "1        \\/Captain_America_(Steven_Rogers)   Public Identity   \n",
       "2  \\/Wolverine_(James_%22Logan%22_Howlett)   Public Identity   \n",
       "3    \\/Iron_Man_(Anthony_%22Tony%22_Stark)   Public Identity   \n",
       "4                    \\/Thor_(Thor_Odinson)  No Dual Identity   \n",
       "\n",
       "                ALIGN         EYE        HAIR              SEX  GSM  \\\n",
       "0     Good Characters  Hazel Eyes  Brown Hair  Male Characters  NaN   \n",
       "1     Good Characters   Blue Eyes  White Hair  Male Characters  NaN   \n",
       "2  Neutral Characters   Blue Eyes  Black Hair  Male Characters  NaN   \n",
       "3     Good Characters   Blue Eyes  Black Hair  Male Characters  NaN   \n",
       "4     Good Characters   Blue Eyes  Blond Hair  Male Characters  NaN   \n",
       "\n",
       "               ALIVE  APPEARANCES FIRST APPEARANCE    YEAR  is_marvel  \n",
       "0  Living Characters       4043.0           Aug-62  1962.0          1  \n",
       "1  Living Characters       3360.0           Mar-41  1941.0          1  \n",
       "2  Living Characters       3061.0           Oct-74  1974.0          1  \n",
       "3  Living Characters       2961.0           Mar-63  1963.0          1  \n",
       "4  Living Characters       2258.0           Nov-50  1950.0          1  "
      ]
     },
     "execution_count": 8,
     "metadata": {},
     "output_type": "execute_result"
    }
   ],
   "source": [
    "marvel['is_marvel'] = 1\n",
    "DC['is_marvel'] = 0\n",
    "\n",
    "marvel.head()"
   ]
  },
  {
   "cell_type": "markdown",
   "metadata": {},
   "source": [
    "Let's combine 'em!"
   ]
  },
  {
   "cell_type": "code",
   "execution_count": 9,
   "metadata": {
    "ExecuteTime": {
     "end_time": "2020-10-16T01:55:44.781242Z",
     "start_time": "2020-10-16T01:55:44.767384Z"
    }
   },
   "outputs": [],
   "source": [
    "df = pd.concat([marvel, DC], ignore_index=True, sort=False)"
   ]
  },
  {
   "cell_type": "code",
   "execution_count": 10,
   "metadata": {
    "ExecuteTime": {
     "end_time": "2020-10-16T01:55:45.283095Z",
     "start_time": "2020-10-16T01:55:45.279143Z"
    }
   },
   "outputs": [
    {
     "data": {
      "text/plain": [
       "(23272, 14)"
      ]
     },
     "execution_count": 10,
     "metadata": {},
     "output_type": "execute_result"
    }
   ],
   "source": [
    "df.shape"
   ]
  },
  {
   "cell_type": "markdown",
   "metadata": {},
   "source": [
    "# EDA and cleaning"
   ]
  },
  {
   "cell_type": "code",
   "execution_count": 223,
   "metadata": {
    "ExecuteTime": {
     "end_time": "2020-10-16T01:55:46.301111Z",
     "start_time": "2020-10-16T01:55:46.295703Z"
    }
   },
   "outputs": [
    {
     "data": {
      "text/plain": [
       "page_id               int64\n",
       "name                 object\n",
       "urlslug              object\n",
       "ID                   object\n",
       "ALIGN                object\n",
       "EYE                  object\n",
       "HAIR                 object\n",
       "SEX                  object\n",
       "GSM                  object\n",
       "ALIVE                object\n",
       "APPEARANCES         float64\n",
       "FIRST APPEARANCE     object\n",
       "YEAR                float64\n",
       "is_marvel             int64\n",
       "dtype: object"
      ]
     },
     "execution_count": 223,
     "metadata": {},
     "output_type": "execute_result"
    }
   ],
   "source": [
    "df.dtypes"
   ]
  },
  {
   "cell_type": "markdown",
   "metadata": {},
   "source": [
    "## Nulls?"
   ]
  },
  {
   "cell_type": "code",
   "execution_count": 224,
   "metadata": {
    "ExecuteTime": {
     "end_time": "2020-10-16T01:55:47.241850Z",
     "start_time": "2020-10-16T01:55:47.225472Z"
    },
    "scrolled": true
   },
   "outputs": [
    {
     "data": {
      "text/plain": [
       "page_id                 0\n",
       "name                    0\n",
       "urlslug                 0\n",
       "ID                   5783\n",
       "ALIGN                3413\n",
       "EYE                 13395\n",
       "HAIR                 6538\n",
       "SEX                   979\n",
       "GSM                 23118\n",
       "ALIVE                   6\n",
       "APPEARANCES          1451\n",
       "FIRST APPEARANCE      884\n",
       "YEAR                  884\n",
       "is_marvel               0\n",
       "dtype: int64"
      ]
     },
     "execution_count": 224,
     "metadata": {},
     "output_type": "execute_result"
    }
   ],
   "source": [
    "df.isnull().sum()"
   ]
  },
  {
   "cell_type": "markdown",
   "metadata": {},
   "source": [
    "## Replacing nulls"
   ]
  },
  {
   "cell_type": "markdown",
   "metadata": {},
   "source": [
    "Appearances - who are the most important characters?"
   ]
  },
  {
   "cell_type": "code",
   "execution_count": 225,
   "metadata": {
    "ExecuteTime": {
     "end_time": "2020-10-16T01:55:48.500382Z",
     "start_time": "2020-10-16T01:55:48.491709Z"
    }
   },
   "outputs": [
    {
     "data": {
      "text/plain": [
       "count    21821.000000\n",
       "mean        19.009303\n",
       "std         93.814040\n",
       "min          1.000000\n",
       "25%          1.000000\n",
       "50%          4.000000\n",
       "75%         10.000000\n",
       "max       4043.000000\n",
       "Name: APPEARANCES, dtype: float64"
      ]
     },
     "execution_count": 225,
     "metadata": {},
     "output_type": "execute_result"
    }
   ],
   "source": [
    "df.APPEARANCES.describe()"
   ]
  },
  {
   "cell_type": "markdown",
   "metadata": {},
   "source": [
    "This suggests that there are few characters who appear A LOT and a lot of minor characters that have not appeared very often."
   ]
  },
  {
   "cell_type": "code",
   "execution_count": 226,
   "metadata": {
    "ExecuteTime": {
     "end_time": "2020-10-16T01:55:49.415148Z",
     "start_time": "2020-10-16T01:55:49.410163Z"
    }
   },
   "outputs": [
    {
     "data": {
      "text/plain": [
       "4.0"
      ]
     },
     "execution_count": 226,
     "metadata": {},
     "output_type": "execute_result"
    }
   ],
   "source": [
    "df.APPEARANCES.median()"
   ]
  },
  {
   "cell_type": "markdown",
   "metadata": {},
   "source": [
    "How many characters occur more than 1000 times?"
   ]
  },
  {
   "cell_type": "code",
   "execution_count": 227,
   "metadata": {
    "ExecuteTime": {
     "end_time": "2020-10-16T01:55:51.125498Z",
     "start_time": "2020-10-16T01:55:51.120723Z"
    }
   },
   "outputs": [
    {
     "data": {
      "text/plain": [
       "42"
      ]
     },
     "execution_count": 227,
     "metadata": {},
     "output_type": "execute_result"
    }
   ],
   "source": [
    "len(df.loc[(df.APPEARANCES > 1000), 'name'])"
   ]
  },
  {
   "cell_type": "code",
   "execution_count": null,
   "metadata": {
    "ExecuteTime": {
     "end_time": "2020-10-22T06:39:56.402723Z",
     "start_time": "2020-10-22T06:39:56.304706Z"
    }
   },
   "outputs": [],
   "source": [
    "MF = df.loc[(df['SEX']=='Male Characters')|(df['SEX']=='Female Characters')]\n",
    "\n",
    "sns.barplot(x='SEX', y = 'APPEARANCES', data = MF)\n",
    "plt.title('Character gender count', size = 15)\n",
    "plt.xlabel('Gender')\n",
    "plt.ylabel('Avg number of appearances')\n",
    "plt.xticks(rotation=0)\n"
   ]
  },
  {
   "cell_type": "code",
   "execution_count": 229,
   "metadata": {
    "ExecuteTime": {
     "end_time": "2020-10-16T01:55:52.977745Z",
     "start_time": "2020-10-16T01:55:52.971376Z"
    }
   },
   "outputs": [
    {
     "data": {
      "text/plain": [
       "20253    Daystar (New Earth)\n",
       "Name: name, dtype: object"
      ]
     },
     "execution_count": 229,
     "metadata": {},
     "output_type": "execute_result"
    }
   ],
   "source": [
    "df.loc[df['SEX'] == 'Transgender Characters', 'name']"
   ]
  },
  {
   "cell_type": "markdown",
   "metadata": {},
   "source": [
    "### ID column"
   ]
  },
  {
   "cell_type": "code",
   "execution_count": 230,
   "metadata": {
    "ExecuteTime": {
     "end_time": "2020-10-16T01:55:54.069553Z",
     "start_time": "2020-10-16T01:55:54.063971Z"
    }
   },
   "outputs": [
    {
     "data": {
      "text/plain": [
       "5783"
      ]
     },
     "execution_count": 230,
     "metadata": {},
     "output_type": "execute_result"
    }
   ],
   "source": [
    "df['ID'].isnull().sum()"
   ]
  },
  {
   "cell_type": "code",
   "execution_count": 231,
   "metadata": {
    "ExecuteTime": {
     "end_time": "2020-10-16T01:55:54.933982Z",
     "start_time": "2020-10-16T01:55:54.908254Z"
    }
   },
   "outputs": [
    {
     "data": {
      "text/html": [
       "<div>\n",
       "<style scoped>\n",
       "    .dataframe tbody tr th:only-of-type {\n",
       "        vertical-align: middle;\n",
       "    }\n",
       "\n",
       "    .dataframe tbody tr th {\n",
       "        vertical-align: top;\n",
       "    }\n",
       "\n",
       "    .dataframe thead th {\n",
       "        text-align: right;\n",
       "    }\n",
       "</style>\n",
       "<table border=\"1\" class=\"dataframe\">\n",
       "  <thead>\n",
       "    <tr style=\"text-align: right;\">\n",
       "      <th></th>\n",
       "      <th>page_id</th>\n",
       "      <th>name</th>\n",
       "      <th>urlslug</th>\n",
       "      <th>ID</th>\n",
       "      <th>ALIGN</th>\n",
       "      <th>EYE</th>\n",
       "      <th>HAIR</th>\n",
       "      <th>SEX</th>\n",
       "      <th>GSM</th>\n",
       "      <th>ALIVE</th>\n",
       "      <th>APPEARANCES</th>\n",
       "      <th>FIRST APPEARANCE</th>\n",
       "      <th>YEAR</th>\n",
       "      <th>is_marvel</th>\n",
       "    </tr>\n",
       "  </thead>\n",
       "  <tbody>\n",
       "    <tr>\n",
       "      <th>467</th>\n",
       "      <td>2028</td>\n",
       "      <td>Arthur Parks (Earth-616)</td>\n",
       "      <td>\\/Arthur_Parks_(Earth-616)</td>\n",
       "      <td>NaN</td>\n",
       "      <td>Bad Characters</td>\n",
       "      <td>Variable Eyes</td>\n",
       "      <td>Variable Hair</td>\n",
       "      <td>Male Characters</td>\n",
       "      <td>NaN</td>\n",
       "      <td>Living Characters</td>\n",
       "      <td>88.0</td>\n",
       "      <td>Nov-66</td>\n",
       "      <td>1966.0</td>\n",
       "      <td>1</td>\n",
       "    </tr>\n",
       "    <tr>\n",
       "      <th>536</th>\n",
       "      <td>65598</td>\n",
       "      <td>Kathryn Cushing (Earth-616)</td>\n",
       "      <td>\\/Kathryn_Cushing_(Earth-616)</td>\n",
       "      <td>NaN</td>\n",
       "      <td>NaN</td>\n",
       "      <td>Blue Eyes</td>\n",
       "      <td>Blond Hair</td>\n",
       "      <td>Female Characters</td>\n",
       "      <td>NaN</td>\n",
       "      <td>Living Characters</td>\n",
       "      <td>72.0</td>\n",
       "      <td>Nov-85</td>\n",
       "      <td>1985.0</td>\n",
       "      <td>1</td>\n",
       "    </tr>\n",
       "    <tr>\n",
       "      <th>573</th>\n",
       "      <td>2159</td>\n",
       "      <td>Calvin Rankin (Earth-616)</td>\n",
       "      <td>\\/Calvin_Rankin_(Earth-616)</td>\n",
       "      <td>NaN</td>\n",
       "      <td>Good Characters</td>\n",
       "      <td>Brown Eyes</td>\n",
       "      <td>Brown Hair</td>\n",
       "      <td>Male Characters</td>\n",
       "      <td>NaN</td>\n",
       "      <td>Living Characters</td>\n",
       "      <td>67.0</td>\n",
       "      <td>Apr-66</td>\n",
       "      <td>1966.0</td>\n",
       "      <td>1</td>\n",
       "    </tr>\n",
       "    <tr>\n",
       "      <th>577</th>\n",
       "      <td>2526</td>\n",
       "      <td>Shadow King (Earth-616)</td>\n",
       "      <td>\\/Shadow_King_(Earth-616)</td>\n",
       "      <td>NaN</td>\n",
       "      <td>Bad Characters</td>\n",
       "      <td>Red Eyes</td>\n",
       "      <td>No Hair</td>\n",
       "      <td>Male Characters</td>\n",
       "      <td>NaN</td>\n",
       "      <td>Living Characters</td>\n",
       "      <td>67.0</td>\n",
       "      <td>Jan-79</td>\n",
       "      <td>1979.0</td>\n",
       "      <td>1</td>\n",
       "    </tr>\n",
       "    <tr>\n",
       "      <th>605</th>\n",
       "      <td>16087</td>\n",
       "      <td>Arthur Stacy (Earth-616)</td>\n",
       "      <td>\\/Arthur_Stacy_(Earth-616)</td>\n",
       "      <td>NaN</td>\n",
       "      <td>Good Characters</td>\n",
       "      <td>Blue Eyes</td>\n",
       "      <td>Grey Hair</td>\n",
       "      <td>Male Characters</td>\n",
       "      <td>NaN</td>\n",
       "      <td>Living Characters</td>\n",
       "      <td>63.0</td>\n",
       "      <td>Feb-71</td>\n",
       "      <td>1971.0</td>\n",
       "      <td>1</td>\n",
       "    </tr>\n",
       "    <tr>\n",
       "      <th>...</th>\n",
       "      <td>...</td>\n",
       "      <td>...</td>\n",
       "      <td>...</td>\n",
       "      <td>...</td>\n",
       "      <td>...</td>\n",
       "      <td>...</td>\n",
       "      <td>...</td>\n",
       "      <td>...</td>\n",
       "      <td>...</td>\n",
       "      <td>...</td>\n",
       "      <td>...</td>\n",
       "      <td>...</td>\n",
       "      <td>...</td>\n",
       "      <td>...</td>\n",
       "    </tr>\n",
       "    <tr>\n",
       "      <th>23250</th>\n",
       "      <td>128098</td>\n",
       "      <td>Bartholomew Magan (New Earth)</td>\n",
       "      <td>\\/wiki\\/Bartholomew_Magan_(New_Earth)</td>\n",
       "      <td>NaN</td>\n",
       "      <td>Bad Characters</td>\n",
       "      <td>NaN</td>\n",
       "      <td>NaN</td>\n",
       "      <td>Male Characters</td>\n",
       "      <td>NaN</td>\n",
       "      <td>Living Characters</td>\n",
       "      <td>NaN</td>\n",
       "      <td>1963, September</td>\n",
       "      <td>1963.0</td>\n",
       "      <td>0</td>\n",
       "    </tr>\n",
       "    <tr>\n",
       "      <th>23251</th>\n",
       "      <td>22325</td>\n",
       "      <td>James Moon (New Earth)</td>\n",
       "      <td>\\/wiki\\/James_Moon_(New_Earth)</td>\n",
       "      <td>NaN</td>\n",
       "      <td>NaN</td>\n",
       "      <td>NaN</td>\n",
       "      <td>NaN</td>\n",
       "      <td>Male Characters</td>\n",
       "      <td>NaN</td>\n",
       "      <td>Living Characters</td>\n",
       "      <td>NaN</td>\n",
       "      <td>1962, March</td>\n",
       "      <td>1962.0</td>\n",
       "      <td>0</td>\n",
       "    </tr>\n",
       "    <tr>\n",
       "      <th>23254</th>\n",
       "      <td>34617</td>\n",
       "      <td>Dorothea Tane (New Earth)</td>\n",
       "      <td>\\/wiki\\/Dorothea_Tane_(New_Earth)</td>\n",
       "      <td>NaN</td>\n",
       "      <td>NaN</td>\n",
       "      <td>NaN</td>\n",
       "      <td>Blond Hair</td>\n",
       "      <td>Female Characters</td>\n",
       "      <td>NaN</td>\n",
       "      <td>Living Characters</td>\n",
       "      <td>NaN</td>\n",
       "      <td>1948, August</td>\n",
       "      <td>1948.0</td>\n",
       "      <td>0</td>\n",
       "    </tr>\n",
       "    <tr>\n",
       "      <th>23255</th>\n",
       "      <td>238641</td>\n",
       "      <td>Dmane (Earth-Two)</td>\n",
       "      <td>\\/wiki\\/Dmane_(Earth-Two)</td>\n",
       "      <td>NaN</td>\n",
       "      <td>Bad Characters</td>\n",
       "      <td>Blue Eyes</td>\n",
       "      <td>NaN</td>\n",
       "      <td>Male Characters</td>\n",
       "      <td>NaN</td>\n",
       "      <td>Living Characters</td>\n",
       "      <td>NaN</td>\n",
       "      <td>1946, April</td>\n",
       "      <td>1946.0</td>\n",
       "      <td>0</td>\n",
       "    </tr>\n",
       "    <tr>\n",
       "      <th>23262</th>\n",
       "      <td>289378</td>\n",
       "      <td>Bedivere (New Earth)</td>\n",
       "      <td>\\/wiki\\/Bedivere_(New_Earth)</td>\n",
       "      <td>NaN</td>\n",
       "      <td>NaN</td>\n",
       "      <td>NaN</td>\n",
       "      <td>NaN</td>\n",
       "      <td>Male Characters</td>\n",
       "      <td>NaN</td>\n",
       "      <td>Living Characters</td>\n",
       "      <td>NaN</td>\n",
       "      <td>1936, February</td>\n",
       "      <td>1936.0</td>\n",
       "      <td>0</td>\n",
       "    </tr>\n",
       "  </tbody>\n",
       "</table>\n",
       "<p>5783 rows × 14 columns</p>\n",
       "</div>"
      ],
      "text/plain": [
       "       page_id                           name  \\\n",
       "467       2028       Arthur Parks (Earth-616)   \n",
       "536      65598    Kathryn Cushing (Earth-616)   \n",
       "573       2159      Calvin Rankin (Earth-616)   \n",
       "577       2526        Shadow King (Earth-616)   \n",
       "605      16087       Arthur Stacy (Earth-616)   \n",
       "...        ...                            ...   \n",
       "23250   128098  Bartholomew Magan (New Earth)   \n",
       "23251    22325         James Moon (New Earth)   \n",
       "23254    34617      Dorothea Tane (New Earth)   \n",
       "23255   238641              Dmane (Earth-Two)   \n",
       "23262   289378           Bedivere (New Earth)   \n",
       "\n",
       "                                     urlslug   ID            ALIGN  \\\n",
       "467               \\/Arthur_Parks_(Earth-616)  NaN   Bad Characters   \n",
       "536            \\/Kathryn_Cushing_(Earth-616)  NaN              NaN   \n",
       "573              \\/Calvin_Rankin_(Earth-616)  NaN  Good Characters   \n",
       "577                \\/Shadow_King_(Earth-616)  NaN   Bad Characters   \n",
       "605               \\/Arthur_Stacy_(Earth-616)  NaN  Good Characters   \n",
       "...                                      ...  ...              ...   \n",
       "23250  \\/wiki\\/Bartholomew_Magan_(New_Earth)  NaN   Bad Characters   \n",
       "23251         \\/wiki\\/James_Moon_(New_Earth)  NaN              NaN   \n",
       "23254      \\/wiki\\/Dorothea_Tane_(New_Earth)  NaN              NaN   \n",
       "23255              \\/wiki\\/Dmane_(Earth-Two)  NaN   Bad Characters   \n",
       "23262           \\/wiki\\/Bedivere_(New_Earth)  NaN              NaN   \n",
       "\n",
       "                 EYE           HAIR                SEX  GSM  \\\n",
       "467    Variable Eyes  Variable Hair    Male Characters  NaN   \n",
       "536        Blue Eyes     Blond Hair  Female Characters  NaN   \n",
       "573       Brown Eyes     Brown Hair    Male Characters  NaN   \n",
       "577         Red Eyes        No Hair    Male Characters  NaN   \n",
       "605        Blue Eyes      Grey Hair    Male Characters  NaN   \n",
       "...              ...            ...                ...  ...   \n",
       "23250            NaN            NaN    Male Characters  NaN   \n",
       "23251            NaN            NaN    Male Characters  NaN   \n",
       "23254            NaN     Blond Hair  Female Characters  NaN   \n",
       "23255      Blue Eyes            NaN    Male Characters  NaN   \n",
       "23262            NaN            NaN    Male Characters  NaN   \n",
       "\n",
       "                   ALIVE  APPEARANCES FIRST APPEARANCE    YEAR  is_marvel  \n",
       "467    Living Characters         88.0           Nov-66  1966.0          1  \n",
       "536    Living Characters         72.0           Nov-85  1985.0          1  \n",
       "573    Living Characters         67.0           Apr-66  1966.0          1  \n",
       "577    Living Characters         67.0           Jan-79  1979.0          1  \n",
       "605    Living Characters         63.0           Feb-71  1971.0          1  \n",
       "...                  ...          ...              ...     ...        ...  \n",
       "23250  Living Characters          NaN  1963, September  1963.0          0  \n",
       "23251  Living Characters          NaN      1962, March  1962.0          0  \n",
       "23254  Living Characters          NaN     1948, August  1948.0          0  \n",
       "23255  Living Characters          NaN      1946, April  1946.0          0  \n",
       "23262  Living Characters          NaN   1936, February  1936.0          0  \n",
       "\n",
       "[5783 rows x 14 columns]"
      ]
     },
     "execution_count": 231,
     "metadata": {},
     "output_type": "execute_result"
    }
   ],
   "source": [
    "df[df['ID'].isnull()==True]"
   ]
  },
  {
   "cell_type": "code",
   "execution_count": 232,
   "metadata": {
    "ExecuteTime": {
     "end_time": "2020-10-16T01:56:02.191281Z",
     "start_time": "2020-10-16T01:56:02.186414Z"
    }
   },
   "outputs": [],
   "source": [
    "df['ID'] = df['ID'].replace(np.nan, 'NA')"
   ]
  },
  {
   "cell_type": "markdown",
   "metadata": {},
   "source": [
    "### GSM column"
   ]
  },
  {
   "cell_type": "code",
   "execution_count": 233,
   "metadata": {
    "ExecuteTime": {
     "end_time": "2020-10-16T01:56:03.457889Z",
     "start_time": "2020-10-16T01:56:03.451059Z"
    },
    "scrolled": true
   },
   "outputs": [
    {
     "data": {
      "text/plain": [
       "Homosexual Characters    54\n",
       "Bisexual Characters      10\n",
       "Name: GSM, dtype: int64"
      ]
     },
     "execution_count": 233,
     "metadata": {},
     "output_type": "execute_result"
    }
   ],
   "source": [
    "DC.GSM.value_counts()"
   ]
  },
  {
   "cell_type": "code",
   "execution_count": 234,
   "metadata": {
    "ExecuteTime": {
     "end_time": "2020-10-16T01:56:05.502440Z",
     "start_time": "2020-10-16T01:56:05.497343Z"
    }
   },
   "outputs": [],
   "source": [
    "df['GSM'] = df['GSM'].replace(np.nan, 'Not_minority')"
   ]
  },
  {
   "cell_type": "markdown",
   "metadata": {},
   "source": [
    "### Align column"
   ]
  },
  {
   "cell_type": "code",
   "execution_count": 235,
   "metadata": {
    "ExecuteTime": {
     "end_time": "2020-10-16T01:56:12.176920Z",
     "start_time": "2020-10-16T01:56:12.161137Z"
    }
   },
   "outputs": [
    {
     "data": {
      "text/html": [
       "<div>\n",
       "<style scoped>\n",
       "    .dataframe tbody tr th:only-of-type {\n",
       "        vertical-align: middle;\n",
       "    }\n",
       "\n",
       "    .dataframe tbody tr th {\n",
       "        vertical-align: top;\n",
       "    }\n",
       "\n",
       "    .dataframe thead th {\n",
       "        text-align: right;\n",
       "    }\n",
       "</style>\n",
       "<table border=\"1\" class=\"dataframe\">\n",
       "  <thead>\n",
       "    <tr style=\"text-align: right;\">\n",
       "      <th></th>\n",
       "      <th>page_id</th>\n",
       "      <th>name</th>\n",
       "      <th>urlslug</th>\n",
       "      <th>ID</th>\n",
       "      <th>ALIGN</th>\n",
       "      <th>EYE</th>\n",
       "      <th>HAIR</th>\n",
       "      <th>SEX</th>\n",
       "      <th>GSM</th>\n",
       "      <th>ALIVE</th>\n",
       "      <th>APPEARANCES</th>\n",
       "      <th>FIRST APPEARANCE</th>\n",
       "      <th>YEAR</th>\n",
       "      <th>is_marvel</th>\n",
       "    </tr>\n",
       "  </thead>\n",
       "  <tbody>\n",
       "    <tr>\n",
       "      <th>0</th>\n",
       "      <td>1678</td>\n",
       "      <td>Spider-Man (Peter Parker)</td>\n",
       "      <td>\\/Spider-Man_(Peter_Parker)</td>\n",
       "      <td>Secret Identity</td>\n",
       "      <td>Good Characters</td>\n",
       "      <td>Hazel Eyes</td>\n",
       "      <td>Brown Hair</td>\n",
       "      <td>Male Characters</td>\n",
       "      <td>Not_minority</td>\n",
       "      <td>Living Characters</td>\n",
       "      <td>4043.0</td>\n",
       "      <td>Aug-62</td>\n",
       "      <td>1962.0</td>\n",
       "      <td>1</td>\n",
       "    </tr>\n",
       "    <tr>\n",
       "      <th>1</th>\n",
       "      <td>7139</td>\n",
       "      <td>Captain America (Steven Rogers)</td>\n",
       "      <td>\\/Captain_America_(Steven_Rogers)</td>\n",
       "      <td>Public Identity</td>\n",
       "      <td>Good Characters</td>\n",
       "      <td>Blue Eyes</td>\n",
       "      <td>White Hair</td>\n",
       "      <td>Male Characters</td>\n",
       "      <td>Not_minority</td>\n",
       "      <td>Living Characters</td>\n",
       "      <td>3360.0</td>\n",
       "      <td>Mar-41</td>\n",
       "      <td>1941.0</td>\n",
       "      <td>1</td>\n",
       "    </tr>\n",
       "    <tr>\n",
       "      <th>2</th>\n",
       "      <td>64786</td>\n",
       "      <td>Wolverine (James \\\"Logan\\\" Howlett)</td>\n",
       "      <td>\\/Wolverine_(James_%22Logan%22_Howlett)</td>\n",
       "      <td>Public Identity</td>\n",
       "      <td>Neutral Characters</td>\n",
       "      <td>Blue Eyes</td>\n",
       "      <td>Black Hair</td>\n",
       "      <td>Male Characters</td>\n",
       "      <td>Not_minority</td>\n",
       "      <td>Living Characters</td>\n",
       "      <td>3061.0</td>\n",
       "      <td>Oct-74</td>\n",
       "      <td>1974.0</td>\n",
       "      <td>1</td>\n",
       "    </tr>\n",
       "    <tr>\n",
       "      <th>3</th>\n",
       "      <td>1868</td>\n",
       "      <td>Iron Man (Anthony \\\"Tony\\\" Stark)</td>\n",
       "      <td>\\/Iron_Man_(Anthony_%22Tony%22_Stark)</td>\n",
       "      <td>Public Identity</td>\n",
       "      <td>Good Characters</td>\n",
       "      <td>Blue Eyes</td>\n",
       "      <td>Black Hair</td>\n",
       "      <td>Male Characters</td>\n",
       "      <td>Not_minority</td>\n",
       "      <td>Living Characters</td>\n",
       "      <td>2961.0</td>\n",
       "      <td>Mar-63</td>\n",
       "      <td>1963.0</td>\n",
       "      <td>1</td>\n",
       "    </tr>\n",
       "    <tr>\n",
       "      <th>4</th>\n",
       "      <td>2460</td>\n",
       "      <td>Thor (Thor Odinson)</td>\n",
       "      <td>\\/Thor_(Thor_Odinson)</td>\n",
       "      <td>No Dual Identity</td>\n",
       "      <td>Good Characters</td>\n",
       "      <td>Blue Eyes</td>\n",
       "      <td>Blond Hair</td>\n",
       "      <td>Male Characters</td>\n",
       "      <td>Not_minority</td>\n",
       "      <td>Living Characters</td>\n",
       "      <td>2258.0</td>\n",
       "      <td>Nov-50</td>\n",
       "      <td>1950.0</td>\n",
       "      <td>1</td>\n",
       "    </tr>\n",
       "  </tbody>\n",
       "</table>\n",
       "</div>"
      ],
      "text/plain": [
       "   page_id                                 name  \\\n",
       "0     1678            Spider-Man (Peter Parker)   \n",
       "1     7139      Captain America (Steven Rogers)   \n",
       "2    64786  Wolverine (James \\\"Logan\\\" Howlett)   \n",
       "3     1868    Iron Man (Anthony \\\"Tony\\\" Stark)   \n",
       "4     2460                  Thor (Thor Odinson)   \n",
       "\n",
       "                                   urlslug                ID  \\\n",
       "0              \\/Spider-Man_(Peter_Parker)   Secret Identity   \n",
       "1        \\/Captain_America_(Steven_Rogers)   Public Identity   \n",
       "2  \\/Wolverine_(James_%22Logan%22_Howlett)   Public Identity   \n",
       "3    \\/Iron_Man_(Anthony_%22Tony%22_Stark)   Public Identity   \n",
       "4                    \\/Thor_(Thor_Odinson)  No Dual Identity   \n",
       "\n",
       "                ALIGN         EYE        HAIR              SEX           GSM  \\\n",
       "0     Good Characters  Hazel Eyes  Brown Hair  Male Characters  Not_minority   \n",
       "1     Good Characters   Blue Eyes  White Hair  Male Characters  Not_minority   \n",
       "2  Neutral Characters   Blue Eyes  Black Hair  Male Characters  Not_minority   \n",
       "3     Good Characters   Blue Eyes  Black Hair  Male Characters  Not_minority   \n",
       "4     Good Characters   Blue Eyes  Blond Hair  Male Characters  Not_minority   \n",
       "\n",
       "               ALIVE  APPEARANCES FIRST APPEARANCE    YEAR  is_marvel  \n",
       "0  Living Characters       4043.0           Aug-62  1962.0          1  \n",
       "1  Living Characters       3360.0           Mar-41  1941.0          1  \n",
       "2  Living Characters       3061.0           Oct-74  1974.0          1  \n",
       "3  Living Characters       2961.0           Mar-63  1963.0          1  \n",
       "4  Living Characters       2258.0           Nov-50  1950.0          1  "
      ]
     },
     "execution_count": 235,
     "metadata": {},
     "output_type": "execute_result"
    }
   ],
   "source": [
    "df.head()"
   ]
  },
  {
   "cell_type": "code",
   "execution_count": 236,
   "metadata": {
    "ExecuteTime": {
     "end_time": "2020-10-16T01:56:23.894378Z",
     "start_time": "2020-10-16T01:56:23.889451Z"
    }
   },
   "outputs": [],
   "source": [
    "df['ALIGN'] = df['ALIGN'].replace(np.nan, 'no allegiance')"
   ]
  },
  {
   "cell_type": "markdown",
   "metadata": {},
   "source": [
    "### Eye column"
   ]
  },
  {
   "cell_type": "code",
   "execution_count": 239,
   "metadata": {
    "ExecuteTime": {
     "end_time": "2020-10-16T01:58:02.899555Z",
     "start_time": "2020-10-16T01:58:02.891509Z"
    },
    "scrolled": true
   },
   "outputs": [
    {
     "data": {
      "text/plain": [
       "Blue Eyes             3064\n",
       "Brown Eyes            2803\n",
       "Black Eyes             967\n",
       "Green Eyes             904\n",
       "Red Eyes               716\n",
       "White Eyes             516\n",
       "Yellow Eyes            342\n",
       "Grey Eyes              135\n",
       "Hazel Eyes              99\n",
       "Variable Eyes           49\n",
       "Photocellular Eyes      48\n",
       "Purple Eyes             45\n",
       "Orange Eyes             35\n",
       "Pink Eyes               27\n",
       "Gold Eyes               23\n",
       "Violet Eyes             23\n",
       "One Eye                 21\n",
       "Amber Eyes              15\n",
       "Silver Eyes             12\n",
       "No Eyes                  7\n",
       "Multiple Eyes            7\n",
       "Auburn Hair              7\n",
       "Yellow Eyeballs          6\n",
       "Black Eyeballs           3\n",
       "Magenta Eyes             2\n",
       "Compound Eyes            1\n",
       "Name: EYE, dtype: int64"
      ]
     },
     "execution_count": 239,
     "metadata": {},
     "output_type": "execute_result"
    }
   ],
   "source": [
    "df['EYE'].value_counts()"
   ]
  },
  {
   "cell_type": "code",
   "execution_count": 240,
   "metadata": {
    "ExecuteTime": {
     "end_time": "2020-10-16T01:58:13.998652Z",
     "start_time": "2020-10-16T01:58:13.993537Z"
    }
   },
   "outputs": [],
   "source": [
    "df['EYE'] = df['EYE'].replace(np.nan, 'no color')"
   ]
  },
  {
   "cell_type": "markdown",
   "metadata": {},
   "source": [
    "### Hair column"
   ]
  },
  {
   "cell_type": "code",
   "execution_count": 242,
   "metadata": {
    "ExecuteTime": {
     "end_time": "2020-10-16T01:58:40.896051Z",
     "start_time": "2020-10-16T01:58:40.890893Z"
    }
   },
   "outputs": [],
   "source": [
    "df['HAIR'] = df['HAIR'].replace(np.nan, 'no color')"
   ]
  },
  {
   "cell_type": "markdown",
   "metadata": {},
   "source": [
    "### Sex (nice)"
   ]
  },
  {
   "cell_type": "code",
   "execution_count": 244,
   "metadata": {
    "ExecuteTime": {
     "end_time": "2020-10-16T01:59:51.082310Z",
     "start_time": "2020-10-16T01:59:51.074680Z"
    },
    "scrolled": true
   },
   "outputs": [
    {
     "data": {
      "text/plain": [
       "Male Characters           16421\n",
       "Female Characters          5804\n",
       "Agender Characters           45\n",
       "Genderless Characters        20\n",
       "Genderfluid Characters        2\n",
       "Transgender Characters        1\n",
       "Name: SEX, dtype: int64"
      ]
     },
     "execution_count": 244,
     "metadata": {},
     "output_type": "execute_result"
    }
   ],
   "source": [
    "df.SEX.value_counts()"
   ]
  },
  {
   "cell_type": "code",
   "execution_count": 246,
   "metadata": {
    "ExecuteTime": {
     "end_time": "2020-10-16T02:02:13.159652Z",
     "start_time": "2020-10-16T02:02:13.135230Z"
    }
   },
   "outputs": [
    {
     "data": {
      "text/html": [
       "<div>\n",
       "<style scoped>\n",
       "    .dataframe tbody tr th:only-of-type {\n",
       "        vertical-align: middle;\n",
       "    }\n",
       "\n",
       "    .dataframe tbody tr th {\n",
       "        vertical-align: top;\n",
       "    }\n",
       "\n",
       "    .dataframe thead th {\n",
       "        text-align: right;\n",
       "    }\n",
       "</style>\n",
       "<table border=\"1\" class=\"dataframe\">\n",
       "  <thead>\n",
       "    <tr style=\"text-align: right;\">\n",
       "      <th></th>\n",
       "      <th>page_id</th>\n",
       "      <th>name</th>\n",
       "      <th>urlslug</th>\n",
       "      <th>ID</th>\n",
       "      <th>ALIGN</th>\n",
       "      <th>EYE</th>\n",
       "      <th>HAIR</th>\n",
       "      <th>SEX</th>\n",
       "      <th>GSM</th>\n",
       "      <th>ALIVE</th>\n",
       "      <th>APPEARANCES</th>\n",
       "      <th>FIRST APPEARANCE</th>\n",
       "      <th>YEAR</th>\n",
       "      <th>is_marvel</th>\n",
       "    </tr>\n",
       "  </thead>\n",
       "  <tbody>\n",
       "    <tr>\n",
       "      <th>182</th>\n",
       "      <td>15511</td>\n",
       "      <td>Phoenix Force (Earth-616)</td>\n",
       "      <td>\\/Phoenix_Force_(Earth-616)</td>\n",
       "      <td>Secret Identity</td>\n",
       "      <td>Neutral Characters</td>\n",
       "      <td>no color</td>\n",
       "      <td>No Hair</td>\n",
       "      <td>NaN</td>\n",
       "      <td>Not_minority</td>\n",
       "      <td>Deceased Characters</td>\n",
       "      <td>229.0</td>\n",
       "      <td>Oct-76</td>\n",
       "      <td>1976.0</td>\n",
       "      <td>1</td>\n",
       "    </tr>\n",
       "    <tr>\n",
       "      <th>380</th>\n",
       "      <td>2300</td>\n",
       "      <td>Prosh (Earth-616)</td>\n",
       "      <td>\\/Prosh_(Earth-616)</td>\n",
       "      <td>Secret Identity</td>\n",
       "      <td>Good Characters</td>\n",
       "      <td>Variable Eyes</td>\n",
       "      <td>No Hair</td>\n",
       "      <td>NaN</td>\n",
       "      <td>Not_minority</td>\n",
       "      <td>Living Characters</td>\n",
       "      <td>109.0</td>\n",
       "      <td>Jan-88</td>\n",
       "      <td>1988.0</td>\n",
       "      <td>1</td>\n",
       "    </tr>\n",
       "    <tr>\n",
       "      <th>409</th>\n",
       "      <td>1526</td>\n",
       "      <td>Eternity (Earth-616)</td>\n",
       "      <td>\\/Eternity_(Earth-616)</td>\n",
       "      <td>Secret Identity</td>\n",
       "      <td>Neutral Characters</td>\n",
       "      <td>Black Eyes</td>\n",
       "      <td>No Hair</td>\n",
       "      <td>NaN</td>\n",
       "      <td>Not_minority</td>\n",
       "      <td>Living Characters</td>\n",
       "      <td>100.0</td>\n",
       "      <td>Nov-65</td>\n",
       "      <td>1965.0</td>\n",
       "      <td>1</td>\n",
       "    </tr>\n",
       "    <tr>\n",
       "      <th>608</th>\n",
       "      <td>16580</td>\n",
       "      <td>Microtron (Earth-616)</td>\n",
       "      <td>\\/Microtron_(Earth-616)</td>\n",
       "      <td>NA</td>\n",
       "      <td>no allegiance</td>\n",
       "      <td>no color</td>\n",
       "      <td>no color</td>\n",
       "      <td>NaN</td>\n",
       "      <td>Not_minority</td>\n",
       "      <td>Living Characters</td>\n",
       "      <td>63.0</td>\n",
       "      <td>Jan-79</td>\n",
       "      <td>1979.0</td>\n",
       "      <td>1</td>\n",
       "    </tr>\n",
       "    <tr>\n",
       "      <th>659</th>\n",
       "      <td>392309</td>\n",
       "      <td>Korr (Moloid) (Earth-616)</td>\n",
       "      <td>\\/Korr_(Moloid)_(Earth-616)</td>\n",
       "      <td>Secret Identity</td>\n",
       "      <td>Good Characters</td>\n",
       "      <td>no color</td>\n",
       "      <td>No Hair</td>\n",
       "      <td>NaN</td>\n",
       "      <td>Not_minority</td>\n",
       "      <td>Living Characters</td>\n",
       "      <td>58.0</td>\n",
       "      <td>Mar-10</td>\n",
       "      <td>2010.0</td>\n",
       "      <td>1</td>\n",
       "    </tr>\n",
       "    <tr>\n",
       "      <th>...</th>\n",
       "      <td>...</td>\n",
       "      <td>...</td>\n",
       "      <td>...</td>\n",
       "      <td>...</td>\n",
       "      <td>...</td>\n",
       "      <td>...</td>\n",
       "      <td>...</td>\n",
       "      <td>...</td>\n",
       "      <td>...</td>\n",
       "      <td>...</td>\n",
       "      <td>...</td>\n",
       "      <td>...</td>\n",
       "      <td>...</td>\n",
       "      <td>...</td>\n",
       "    </tr>\n",
       "    <tr>\n",
       "      <th>23056</th>\n",
       "      <td>185733</td>\n",
       "      <td>Dungeon (New Earth)</td>\n",
       "      <td>\\/wiki\\/Dungeon_(New_Earth)</td>\n",
       "      <td>NA</td>\n",
       "      <td>Bad Characters</td>\n",
       "      <td>no color</td>\n",
       "      <td>no color</td>\n",
       "      <td>NaN</td>\n",
       "      <td>Not_minority</td>\n",
       "      <td>Living Characters</td>\n",
       "      <td>NaN</td>\n",
       "      <td>1996, April</td>\n",
       "      <td>1996.0</td>\n",
       "      <td>0</td>\n",
       "    </tr>\n",
       "    <tr>\n",
       "      <th>23107</th>\n",
       "      <td>185321</td>\n",
       "      <td>Doctor Vortex (New Earth)</td>\n",
       "      <td>\\/wiki\\/Doctor_Vortex_(New_Earth)</td>\n",
       "      <td>NA</td>\n",
       "      <td>Bad Characters</td>\n",
       "      <td>no color</td>\n",
       "      <td>no color</td>\n",
       "      <td>NaN</td>\n",
       "      <td>Not_minority</td>\n",
       "      <td>Living Characters</td>\n",
       "      <td>NaN</td>\n",
       "      <td>1993, December</td>\n",
       "      <td>1993.0</td>\n",
       "      <td>0</td>\n",
       "    </tr>\n",
       "    <tr>\n",
       "      <th>23112</th>\n",
       "      <td>192434</td>\n",
       "      <td>Quote (New Earth)</td>\n",
       "      <td>\\/wiki\\/Quote_(New_Earth)</td>\n",
       "      <td>NA</td>\n",
       "      <td>Bad Characters</td>\n",
       "      <td>no color</td>\n",
       "      <td>no color</td>\n",
       "      <td>NaN</td>\n",
       "      <td>Not_minority</td>\n",
       "      <td>Living Characters</td>\n",
       "      <td>NaN</td>\n",
       "      <td>1993, December</td>\n",
       "      <td>1993.0</td>\n",
       "      <td>0</td>\n",
       "    </tr>\n",
       "    <tr>\n",
       "      <th>23211</th>\n",
       "      <td>144269</td>\n",
       "      <td>M'Dahna (New Earth)</td>\n",
       "      <td>\\/wiki\\/M%27Dahna_(New_Earth)</td>\n",
       "      <td>Secret Identity</td>\n",
       "      <td>Good Characters</td>\n",
       "      <td>Brown Eyes</td>\n",
       "      <td>no color</td>\n",
       "      <td>NaN</td>\n",
       "      <td>Not_minority</td>\n",
       "      <td>Living Characters</td>\n",
       "      <td>NaN</td>\n",
       "      <td>1981, June</td>\n",
       "      <td>1981.0</td>\n",
       "      <td>0</td>\n",
       "    </tr>\n",
       "    <tr>\n",
       "      <th>23230</th>\n",
       "      <td>285581</td>\n",
       "      <td>Mrblonde267\\/Buddy Blank (New Earth)</td>\n",
       "      <td>\\/wiki\\/User:Mrblonde267\\/Buddy_Blank_(New_Earth)</td>\n",
       "      <td>NA</td>\n",
       "      <td>no allegiance</td>\n",
       "      <td>no color</td>\n",
       "      <td>no color</td>\n",
       "      <td>NaN</td>\n",
       "      <td>Not_minority</td>\n",
       "      <td>NaN</td>\n",
       "      <td>NaN</td>\n",
       "      <td>1974, October</td>\n",
       "      <td>1974.0</td>\n",
       "      <td>0</td>\n",
       "    </tr>\n",
       "  </tbody>\n",
       "</table>\n",
       "<p>979 rows × 14 columns</p>\n",
       "</div>"
      ],
      "text/plain": [
       "       page_id                                  name  \\\n",
       "182      15511             Phoenix Force (Earth-616)   \n",
       "380       2300                     Prosh (Earth-616)   \n",
       "409       1526                  Eternity (Earth-616)   \n",
       "608      16580                 Microtron (Earth-616)   \n",
       "659     392309             Korr (Moloid) (Earth-616)   \n",
       "...        ...                                   ...   \n",
       "23056   185733                   Dungeon (New Earth)   \n",
       "23107   185321             Doctor Vortex (New Earth)   \n",
       "23112   192434                     Quote (New Earth)   \n",
       "23211   144269                   M'Dahna (New Earth)   \n",
       "23230   285581  Mrblonde267\\/Buddy Blank (New Earth)   \n",
       "\n",
       "                                                 urlslug               ID  \\\n",
       "182                          \\/Phoenix_Force_(Earth-616)  Secret Identity   \n",
       "380                                  \\/Prosh_(Earth-616)  Secret Identity   \n",
       "409                               \\/Eternity_(Earth-616)  Secret Identity   \n",
       "608                              \\/Microtron_(Earth-616)               NA   \n",
       "659                          \\/Korr_(Moloid)_(Earth-616)  Secret Identity   \n",
       "...                                                  ...              ...   \n",
       "23056                        \\/wiki\\/Dungeon_(New_Earth)               NA   \n",
       "23107                  \\/wiki\\/Doctor_Vortex_(New_Earth)               NA   \n",
       "23112                          \\/wiki\\/Quote_(New_Earth)               NA   \n",
       "23211                      \\/wiki\\/M%27Dahna_(New_Earth)  Secret Identity   \n",
       "23230  \\/wiki\\/User:Mrblonde267\\/Buddy_Blank_(New_Earth)               NA   \n",
       "\n",
       "                    ALIGN            EYE      HAIR  SEX           GSM  \\\n",
       "182    Neutral Characters       no color   No Hair  NaN  Not_minority   \n",
       "380       Good Characters  Variable Eyes   No Hair  NaN  Not_minority   \n",
       "409    Neutral Characters     Black Eyes   No Hair  NaN  Not_minority   \n",
       "608         no allegiance       no color  no color  NaN  Not_minority   \n",
       "659       Good Characters       no color   No Hair  NaN  Not_minority   \n",
       "...                   ...            ...       ...  ...           ...   \n",
       "23056      Bad Characters       no color  no color  NaN  Not_minority   \n",
       "23107      Bad Characters       no color  no color  NaN  Not_minority   \n",
       "23112      Bad Characters       no color  no color  NaN  Not_minority   \n",
       "23211     Good Characters     Brown Eyes  no color  NaN  Not_minority   \n",
       "23230       no allegiance       no color  no color  NaN  Not_minority   \n",
       "\n",
       "                     ALIVE  APPEARANCES FIRST APPEARANCE    YEAR  is_marvel  \n",
       "182    Deceased Characters        229.0           Oct-76  1976.0          1  \n",
       "380      Living Characters        109.0           Jan-88  1988.0          1  \n",
       "409      Living Characters        100.0           Nov-65  1965.0          1  \n",
       "608      Living Characters         63.0           Jan-79  1979.0          1  \n",
       "659      Living Characters         58.0           Mar-10  2010.0          1  \n",
       "...                    ...          ...              ...     ...        ...  \n",
       "23056    Living Characters          NaN      1996, April  1996.0          0  \n",
       "23107    Living Characters          NaN   1993, December  1993.0          0  \n",
       "23112    Living Characters          NaN   1993, December  1993.0          0  \n",
       "23211    Living Characters          NaN       1981, June  1981.0          0  \n",
       "23230                  NaN          NaN    1974, October  1974.0          0  \n",
       "\n",
       "[979 rows x 14 columns]"
      ]
     },
     "execution_count": 246,
     "metadata": {},
     "output_type": "execute_result"
    }
   ],
   "source": [
    "df.loc[df['SEX'].isnull()]"
   ]
  },
  {
   "cell_type": "code",
   "execution_count": 248,
   "metadata": {
    "ExecuteTime": {
     "end_time": "2020-10-16T02:03:01.904136Z",
     "start_time": "2020-10-16T02:03:01.899186Z"
    }
   },
   "outputs": [],
   "source": [
    "df['SEX'] = df['SEX'].replace(np.nan, 'NA')"
   ]
  },
  {
   "cell_type": "markdown",
   "metadata": {},
   "source": [
    "### Alive column"
   ]
  },
  {
   "cell_type": "code",
   "execution_count": 250,
   "metadata": {
    "ExecuteTime": {
     "end_time": "2020-10-16T02:03:55.762836Z",
     "start_time": "2020-10-16T02:03:55.745214Z"
    }
   },
   "outputs": [
    {
     "data": {
      "text/html": [
       "<div>\n",
       "<style scoped>\n",
       "    .dataframe tbody tr th:only-of-type {\n",
       "        vertical-align: middle;\n",
       "    }\n",
       "\n",
       "    .dataframe tbody tr th {\n",
       "        vertical-align: top;\n",
       "    }\n",
       "\n",
       "    .dataframe thead th {\n",
       "        text-align: right;\n",
       "    }\n",
       "</style>\n",
       "<table border=\"1\" class=\"dataframe\">\n",
       "  <thead>\n",
       "    <tr style=\"text-align: right;\">\n",
       "      <th></th>\n",
       "      <th>page_id</th>\n",
       "      <th>name</th>\n",
       "      <th>urlslug</th>\n",
       "      <th>ID</th>\n",
       "      <th>ALIGN</th>\n",
       "      <th>EYE</th>\n",
       "      <th>HAIR</th>\n",
       "      <th>SEX</th>\n",
       "      <th>GSM</th>\n",
       "      <th>ALIVE</th>\n",
       "      <th>APPEARANCES</th>\n",
       "      <th>FIRST APPEARANCE</th>\n",
       "      <th>YEAR</th>\n",
       "      <th>is_marvel</th>\n",
       "    </tr>\n",
       "  </thead>\n",
       "  <tbody>\n",
       "    <tr>\n",
       "      <th>16293</th>\n",
       "      <td>541449</td>\n",
       "      <td>Mj7711</td>\n",
       "      <td>\\/User:Mj7711</td>\n",
       "      <td>NA</td>\n",
       "      <td>no allegiance</td>\n",
       "      <td>no color</td>\n",
       "      <td>no color</td>\n",
       "      <td>NA</td>\n",
       "      <td>Not_minority</td>\n",
       "      <td>NaN</td>\n",
       "      <td>NaN</td>\n",
       "      <td>NaN</td>\n",
       "      <td>NaN</td>\n",
       "      <td>1</td>\n",
       "    </tr>\n",
       "    <tr>\n",
       "      <th>16329</th>\n",
       "      <td>714409</td>\n",
       "      <td>Sharjeel786</td>\n",
       "      <td>\\/User:Sharjeel786</td>\n",
       "      <td>NA</td>\n",
       "      <td>no allegiance</td>\n",
       "      <td>no color</td>\n",
       "      <td>no color</td>\n",
       "      <td>NA</td>\n",
       "      <td>Not_minority</td>\n",
       "      <td>NaN</td>\n",
       "      <td>NaN</td>\n",
       "      <td>NaN</td>\n",
       "      <td>NaN</td>\n",
       "      <td>1</td>\n",
       "    </tr>\n",
       "    <tr>\n",
       "      <th>16347</th>\n",
       "      <td>462671</td>\n",
       "      <td>TOR\\/test</td>\n",
       "      <td>\\/User:TOR\\/test</td>\n",
       "      <td>NA</td>\n",
       "      <td>no allegiance</td>\n",
       "      <td>no color</td>\n",
       "      <td>no color</td>\n",
       "      <td>NA</td>\n",
       "      <td>Not_minority</td>\n",
       "      <td>NaN</td>\n",
       "      <td>NaN</td>\n",
       "      <td>NaN</td>\n",
       "      <td>NaN</td>\n",
       "      <td>1</td>\n",
       "    </tr>\n",
       "    <tr>\n",
       "      <th>19102</th>\n",
       "      <td>263678</td>\n",
       "      <td>Hatshephut II (New Earth)</td>\n",
       "      <td>\\/wiki\\/Hatshephut_II_(New_Earth)</td>\n",
       "      <td>Public Identity</td>\n",
       "      <td>Bad Characters</td>\n",
       "      <td>no color</td>\n",
       "      <td>no color</td>\n",
       "      <td>Female Characters</td>\n",
       "      <td>Not_minority</td>\n",
       "      <td>NaN</td>\n",
       "      <td>8.0</td>\n",
       "      <td>1992, November</td>\n",
       "      <td>1992.0</td>\n",
       "      <td>0</td>\n",
       "    </tr>\n",
       "    <tr>\n",
       "      <th>19626</th>\n",
       "      <td>293107</td>\n",
       "      <td>Leander (New Earth)</td>\n",
       "      <td>\\/wiki\\/Leander_(New_Earth)</td>\n",
       "      <td>Public Identity</td>\n",
       "      <td>Good Characters</td>\n",
       "      <td>no color</td>\n",
       "      <td>Blue Hair</td>\n",
       "      <td>Male Characters</td>\n",
       "      <td>Homosexual Characters</td>\n",
       "      <td>NaN</td>\n",
       "      <td>6.0</td>\n",
       "      <td>1997, January</td>\n",
       "      <td>1997.0</td>\n",
       "      <td>0</td>\n",
       "    </tr>\n",
       "    <tr>\n",
       "      <th>23230</th>\n",
       "      <td>285581</td>\n",
       "      <td>Mrblonde267\\/Buddy Blank (New Earth)</td>\n",
       "      <td>\\/wiki\\/User:Mrblonde267\\/Buddy_Blank_(New_Earth)</td>\n",
       "      <td>NA</td>\n",
       "      <td>no allegiance</td>\n",
       "      <td>no color</td>\n",
       "      <td>no color</td>\n",
       "      <td>NA</td>\n",
       "      <td>Not_minority</td>\n",
       "      <td>NaN</td>\n",
       "      <td>NaN</td>\n",
       "      <td>1974, October</td>\n",
       "      <td>1974.0</td>\n",
       "      <td>0</td>\n",
       "    </tr>\n",
       "  </tbody>\n",
       "</table>\n",
       "</div>"
      ],
      "text/plain": [
       "       page_id                                  name  \\\n",
       "16293   541449                                Mj7711   \n",
       "16329   714409                           Sharjeel786   \n",
       "16347   462671                             TOR\\/test   \n",
       "19102   263678             Hatshephut II (New Earth)   \n",
       "19626   293107                   Leander (New Earth)   \n",
       "23230   285581  Mrblonde267\\/Buddy Blank (New Earth)   \n",
       "\n",
       "                                                 urlslug               ID  \\\n",
       "16293                                      \\/User:Mj7711               NA   \n",
       "16329                                 \\/User:Sharjeel786               NA   \n",
       "16347                                   \\/User:TOR\\/test               NA   \n",
       "19102                  \\/wiki\\/Hatshephut_II_(New_Earth)  Public Identity   \n",
       "19626                        \\/wiki\\/Leander_(New_Earth)  Public Identity   \n",
       "23230  \\/wiki\\/User:Mrblonde267\\/Buddy_Blank_(New_Earth)               NA   \n",
       "\n",
       "                 ALIGN       EYE       HAIR                SEX  \\\n",
       "16293    no allegiance  no color   no color                 NA   \n",
       "16329    no allegiance  no color   no color                 NA   \n",
       "16347    no allegiance  no color   no color                 NA   \n",
       "19102   Bad Characters  no color   no color  Female Characters   \n",
       "19626  Good Characters  no color  Blue Hair    Male Characters   \n",
       "23230    no allegiance  no color   no color                 NA   \n",
       "\n",
       "                         GSM ALIVE  APPEARANCES FIRST APPEARANCE    YEAR  \\\n",
       "16293           Not_minority   NaN          NaN              NaN     NaN   \n",
       "16329           Not_minority   NaN          NaN              NaN     NaN   \n",
       "16347           Not_minority   NaN          NaN              NaN     NaN   \n",
       "19102           Not_minority   NaN          8.0   1992, November  1992.0   \n",
       "19626  Homosexual Characters   NaN          6.0    1997, January  1997.0   \n",
       "23230           Not_minority   NaN          NaN    1974, October  1974.0   \n",
       "\n",
       "       is_marvel  \n",
       "16293          1  \n",
       "16329          1  \n",
       "16347          1  \n",
       "19102          0  \n",
       "19626          0  \n",
       "23230          0  "
      ]
     },
     "execution_count": 250,
     "metadata": {},
     "output_type": "execute_result"
    }
   ],
   "source": [
    "df.loc[df['ALIVE'].isnull()]"
   ]
  },
  {
   "cell_type": "code",
   "execution_count": 251,
   "metadata": {
    "ExecuteTime": {
     "end_time": "2020-10-16T02:05:06.658249Z",
     "start_time": "2020-10-16T02:05:06.653368Z"
    }
   },
   "outputs": [],
   "source": [
    "df['ALIVE'] = df['ALIVE'].replace(np.nan, 'NA')"
   ]
  },
  {
   "cell_type": "markdown",
   "metadata": {},
   "source": [
    "### Appearances column"
   ]
  },
  {
   "cell_type": "code",
   "execution_count": 253,
   "metadata": {
    "ExecuteTime": {
     "end_time": "2020-10-16T02:05:59.078822Z",
     "start_time": "2020-10-16T02:05:59.061275Z"
    },
    "scrolled": true
   },
   "outputs": [
    {
     "data": {
      "text/html": [
       "<div>\n",
       "<style scoped>\n",
       "    .dataframe tbody tr th:only-of-type {\n",
       "        vertical-align: middle;\n",
       "    }\n",
       "\n",
       "    .dataframe tbody tr th {\n",
       "        vertical-align: top;\n",
       "    }\n",
       "\n",
       "    .dataframe thead th {\n",
       "        text-align: right;\n",
       "    }\n",
       "</style>\n",
       "<table border=\"1\" class=\"dataframe\">\n",
       "  <thead>\n",
       "    <tr style=\"text-align: right;\">\n",
       "      <th></th>\n",
       "      <th>page_id</th>\n",
       "      <th>name</th>\n",
       "      <th>urlslug</th>\n",
       "      <th>ID</th>\n",
       "      <th>ALIGN</th>\n",
       "      <th>EYE</th>\n",
       "      <th>HAIR</th>\n",
       "      <th>SEX</th>\n",
       "      <th>GSM</th>\n",
       "      <th>ALIVE</th>\n",
       "      <th>APPEARANCES</th>\n",
       "      <th>FIRST APPEARANCE</th>\n",
       "      <th>YEAR</th>\n",
       "      <th>is_marvel</th>\n",
       "    </tr>\n",
       "  </thead>\n",
       "  <tbody>\n",
       "    <tr>\n",
       "      <th>15280</th>\n",
       "      <td>743309</td>\n",
       "      <td>Minister of Castile D'or (Earth-616)</td>\n",
       "      <td>\\/Minister_of_Castile_D%27or_(Earth-616)</td>\n",
       "      <td>No Dual Identity</td>\n",
       "      <td>Neutral Characters</td>\n",
       "      <td>no color</td>\n",
       "      <td>no color</td>\n",
       "      <td>Male Characters</td>\n",
       "      <td>Not_minority</td>\n",
       "      <td>Deceased Characters</td>\n",
       "      <td>NaN</td>\n",
       "      <td>Dec-39</td>\n",
       "      <td>1939.0</td>\n",
       "      <td>1</td>\n",
       "    </tr>\n",
       "    <tr>\n",
       "      <th>15281</th>\n",
       "      <td>645438</td>\n",
       "      <td>Mr. Harris' Secretary (Earth-616)</td>\n",
       "      <td>\\/Mr._Harris%27_Secretary_(Earth-616)</td>\n",
       "      <td>No Dual Identity</td>\n",
       "      <td>Neutral Characters</td>\n",
       "      <td>no color</td>\n",
       "      <td>Blond Hair</td>\n",
       "      <td>Female Characters</td>\n",
       "      <td>Not_minority</td>\n",
       "      <td>Living Characters</td>\n",
       "      <td>NaN</td>\n",
       "      <td>Oct-39</td>\n",
       "      <td>1939.0</td>\n",
       "      <td>1</td>\n",
       "    </tr>\n",
       "    <tr>\n",
       "      <th>15282</th>\n",
       "      <td>331151</td>\n",
       "      <td>N'Jaga (Earth-616)</td>\n",
       "      <td>\\/N%27Jaga_(Earth-616)</td>\n",
       "      <td>No Dual Identity</td>\n",
       "      <td>Bad Characters</td>\n",
       "      <td>no color</td>\n",
       "      <td>no color</td>\n",
       "      <td>Male Characters</td>\n",
       "      <td>Not_minority</td>\n",
       "      <td>Living Characters</td>\n",
       "      <td>NaN</td>\n",
       "      <td>Oct-39</td>\n",
       "      <td>1939.0</td>\n",
       "      <td>1</td>\n",
       "    </tr>\n",
       "    <tr>\n",
       "      <th>15283</th>\n",
       "      <td>505986</td>\n",
       "      <td>Ertve (Earth-616)</td>\n",
       "      <td>\\/Ertve_(Earth-616)</td>\n",
       "      <td>Secret Identity</td>\n",
       "      <td>Good Characters</td>\n",
       "      <td>Blue Eyes</td>\n",
       "      <td>White Hair</td>\n",
       "      <td>Male Characters</td>\n",
       "      <td>Not_minority</td>\n",
       "      <td>Living Characters</td>\n",
       "      <td>NaN</td>\n",
       "      <td>Feb-40</td>\n",
       "      <td>1940.0</td>\n",
       "      <td>1</td>\n",
       "    </tr>\n",
       "    <tr>\n",
       "      <th>15284</th>\n",
       "      <td>19657</td>\n",
       "      <td>Invisible Man (Gade) (Earth-616)</td>\n",
       "      <td>\\/Invisible_Man_(Gade)_(Earth-616)</td>\n",
       "      <td>Secret Identity</td>\n",
       "      <td>Good Characters</td>\n",
       "      <td>no color</td>\n",
       "      <td>no color</td>\n",
       "      <td>Male Characters</td>\n",
       "      <td>Not_minority</td>\n",
       "      <td>Living Characters</td>\n",
       "      <td>NaN</td>\n",
       "      <td>Apr-40</td>\n",
       "      <td>1940.0</td>\n",
       "      <td>1</td>\n",
       "    </tr>\n",
       "  </tbody>\n",
       "</table>\n",
       "</div>"
      ],
      "text/plain": [
       "       page_id                                  name  \\\n",
       "15280   743309  Minister of Castile D'or (Earth-616)   \n",
       "15281   645438     Mr. Harris' Secretary (Earth-616)   \n",
       "15282   331151                    N'Jaga (Earth-616)   \n",
       "15283   505986                     Ertve (Earth-616)   \n",
       "15284    19657      Invisible Man (Gade) (Earth-616)   \n",
       "\n",
       "                                        urlslug                ID  \\\n",
       "15280  \\/Minister_of_Castile_D%27or_(Earth-616)  No Dual Identity   \n",
       "15281     \\/Mr._Harris%27_Secretary_(Earth-616)  No Dual Identity   \n",
       "15282                    \\/N%27Jaga_(Earth-616)  No Dual Identity   \n",
       "15283                       \\/Ertve_(Earth-616)   Secret Identity   \n",
       "15284        \\/Invisible_Man_(Gade)_(Earth-616)   Secret Identity   \n",
       "\n",
       "                    ALIGN        EYE        HAIR                SEX  \\\n",
       "15280  Neutral Characters   no color    no color    Male Characters   \n",
       "15281  Neutral Characters   no color  Blond Hair  Female Characters   \n",
       "15282      Bad Characters   no color    no color    Male Characters   \n",
       "15283     Good Characters  Blue Eyes  White Hair    Male Characters   \n",
       "15284     Good Characters   no color    no color    Male Characters   \n",
       "\n",
       "                GSM                ALIVE  APPEARANCES FIRST APPEARANCE  \\\n",
       "15280  Not_minority  Deceased Characters          NaN           Dec-39   \n",
       "15281  Not_minority    Living Characters          NaN           Oct-39   \n",
       "15282  Not_minority    Living Characters          NaN           Oct-39   \n",
       "15283  Not_minority    Living Characters          NaN           Feb-40   \n",
       "15284  Not_minority    Living Characters          NaN           Apr-40   \n",
       "\n",
       "         YEAR  is_marvel  \n",
       "15280  1939.0          1  \n",
       "15281  1939.0          1  \n",
       "15282  1939.0          1  \n",
       "15283  1940.0          1  \n",
       "15284  1940.0          1  "
      ]
     },
     "execution_count": 253,
     "metadata": {},
     "output_type": "execute_result"
    }
   ],
   "source": [
    "df.loc[df['APPEARANCES'].isnull()].head()"
   ]
  },
  {
   "cell_type": "markdown",
   "metadata": {},
   "source": [
    "Let's replace NaN's in appearances with simple \"1\" -- these characters are likely not that important."
   ]
  },
  {
   "cell_type": "code",
   "execution_count": 254,
   "metadata": {
    "ExecuteTime": {
     "end_time": "2020-10-16T02:07:22.594860Z",
     "start_time": "2020-10-16T02:07:22.591239Z"
    }
   },
   "outputs": [],
   "source": [
    "df['APPEARANCES'] = df['APPEARANCES'].replace(np.nan, 1)"
   ]
  },
  {
   "cell_type": "markdown",
   "metadata": {},
   "source": [
    "### First appearance column"
   ]
  },
  {
   "cell_type": "code",
   "execution_count": 258,
   "metadata": {
    "ExecuteTime": {
     "end_time": "2020-10-16T02:09:38.041972Z",
     "start_time": "2020-10-16T02:09:38.024452Z"
    }
   },
   "outputs": [
    {
     "data": {
      "text/html": [
       "<div>\n",
       "<style scoped>\n",
       "    .dataframe tbody tr th:only-of-type {\n",
       "        vertical-align: middle;\n",
       "    }\n",
       "\n",
       "    .dataframe tbody tr th {\n",
       "        vertical-align: top;\n",
       "    }\n",
       "\n",
       "    .dataframe thead th {\n",
       "        text-align: right;\n",
       "    }\n",
       "</style>\n",
       "<table border=\"1\" class=\"dataframe\">\n",
       "  <thead>\n",
       "    <tr style=\"text-align: right;\">\n",
       "      <th></th>\n",
       "      <th>page_id</th>\n",
       "      <th>name</th>\n",
       "      <th>urlslug</th>\n",
       "      <th>ID</th>\n",
       "      <th>ALIGN</th>\n",
       "      <th>EYE</th>\n",
       "      <th>HAIR</th>\n",
       "      <th>SEX</th>\n",
       "      <th>GSM</th>\n",
       "      <th>ALIVE</th>\n",
       "      <th>APPEARANCES</th>\n",
       "      <th>FIRST APPEARANCE</th>\n",
       "      <th>YEAR</th>\n",
       "      <th>is_marvel</th>\n",
       "    </tr>\n",
       "  </thead>\n",
       "  <tbody>\n",
       "    <tr>\n",
       "      <th>12</th>\n",
       "      <td>7823</td>\n",
       "      <td>Namor McKenzie (Earth-616)</td>\n",
       "      <td>\\/Namor_McKenzie_(Earth-616)</td>\n",
       "      <td>No Dual Identity</td>\n",
       "      <td>Neutral Characters</td>\n",
       "      <td>Green Eyes</td>\n",
       "      <td>Black Hair</td>\n",
       "      <td>Male Characters</td>\n",
       "      <td>Not_minority</td>\n",
       "      <td>Living Characters</td>\n",
       "      <td>1528.0</td>\n",
       "      <td>NaN</td>\n",
       "      <td>NaN</td>\n",
       "      <td>1</td>\n",
       "    </tr>\n",
       "    <tr>\n",
       "      <th>38</th>\n",
       "      <td>1677</td>\n",
       "      <td>Rogue (Anna Marie) (Earth-616)</td>\n",
       "      <td>\\/Rogue_(Anna_Marie)_(Earth-616)</td>\n",
       "      <td>Secret Identity</td>\n",
       "      <td>Good Characters</td>\n",
       "      <td>Green Eyes</td>\n",
       "      <td>Auburn Hair</td>\n",
       "      <td>Female Characters</td>\n",
       "      <td>Not_minority</td>\n",
       "      <td>Living Characters</td>\n",
       "      <td>850.0</td>\n",
       "      <td>NaN</td>\n",
       "      <td>NaN</td>\n",
       "      <td>1</td>\n",
       "    </tr>\n",
       "    <tr>\n",
       "      <th>80</th>\n",
       "      <td>67048</td>\n",
       "      <td>Blaine Colt (Earth-616)</td>\n",
       "      <td>\\/Blaine_Colt_(Earth-616)</td>\n",
       "      <td>Public Identity</td>\n",
       "      <td>no allegiance</td>\n",
       "      <td>Blue Eyes</td>\n",
       "      <td>Blond Hair</td>\n",
       "      <td>Male Characters</td>\n",
       "      <td>Not_minority</td>\n",
       "      <td>Deceased Characters</td>\n",
       "      <td>429.0</td>\n",
       "      <td>NaN</td>\n",
       "      <td>NaN</td>\n",
       "      <td>1</td>\n",
       "    </tr>\n",
       "    <tr>\n",
       "      <th>114</th>\n",
       "      <td>37751</td>\n",
       "      <td>Monica Rambeau (Earth-616)</td>\n",
       "      <td>\\/Monica_Rambeau_(Earth-616)</td>\n",
       "      <td>Secret Identity</td>\n",
       "      <td>Good Characters</td>\n",
       "      <td>Brown Eyes</td>\n",
       "      <td>Black Hair</td>\n",
       "      <td>Female Characters</td>\n",
       "      <td>Not_minority</td>\n",
       "      <td>Living Characters</td>\n",
       "      <td>327.0</td>\n",
       "      <td>NaN</td>\n",
       "      <td>NaN</td>\n",
       "      <td>1</td>\n",
       "    </tr>\n",
       "    <tr>\n",
       "      <th>259</th>\n",
       "      <td>25255</td>\n",
       "      <td>James Bradley (Earth-616)</td>\n",
       "      <td>\\/James_Bradley_(Earth-616)</td>\n",
       "      <td>Secret Identity</td>\n",
       "      <td>Good Characters</td>\n",
       "      <td>Blue Eyes</td>\n",
       "      <td>Black Hair</td>\n",
       "      <td>Male Characters</td>\n",
       "      <td>Not_minority</td>\n",
       "      <td>Living Characters</td>\n",
       "      <td>158.0</td>\n",
       "      <td>NaN</td>\n",
       "      <td>NaN</td>\n",
       "      <td>1</td>\n",
       "    </tr>\n",
       "  </tbody>\n",
       "</table>\n",
       "</div>"
      ],
      "text/plain": [
       "     page_id                            name  \\\n",
       "12      7823      Namor McKenzie (Earth-616)   \n",
       "38      1677  Rogue (Anna Marie) (Earth-616)   \n",
       "80     67048         Blaine Colt (Earth-616)   \n",
       "114    37751      Monica Rambeau (Earth-616)   \n",
       "259    25255       James Bradley (Earth-616)   \n",
       "\n",
       "                              urlslug                ID               ALIGN  \\\n",
       "12       \\/Namor_McKenzie_(Earth-616)  No Dual Identity  Neutral Characters   \n",
       "38   \\/Rogue_(Anna_Marie)_(Earth-616)   Secret Identity     Good Characters   \n",
       "80          \\/Blaine_Colt_(Earth-616)   Public Identity       no allegiance   \n",
       "114      \\/Monica_Rambeau_(Earth-616)   Secret Identity     Good Characters   \n",
       "259       \\/James_Bradley_(Earth-616)   Secret Identity     Good Characters   \n",
       "\n",
       "            EYE         HAIR                SEX           GSM  \\\n",
       "12   Green Eyes   Black Hair    Male Characters  Not_minority   \n",
       "38   Green Eyes  Auburn Hair  Female Characters  Not_minority   \n",
       "80    Blue Eyes   Blond Hair    Male Characters  Not_minority   \n",
       "114  Brown Eyes   Black Hair  Female Characters  Not_minority   \n",
       "259   Blue Eyes   Black Hair    Male Characters  Not_minority   \n",
       "\n",
       "                   ALIVE  APPEARANCES FIRST APPEARANCE  YEAR  is_marvel  \n",
       "12     Living Characters       1528.0              NaN   NaN          1  \n",
       "38     Living Characters        850.0              NaN   NaN          1  \n",
       "80   Deceased Characters        429.0              NaN   NaN          1  \n",
       "114    Living Characters        327.0              NaN   NaN          1  \n",
       "259    Living Characters        158.0              NaN   NaN          1  "
      ]
     },
     "execution_count": 258,
     "metadata": {},
     "output_type": "execute_result"
    }
   ],
   "source": [
    "df.loc[df['FIRST APPEARANCE'].isnull()].head()"
   ]
  },
  {
   "cell_type": "markdown",
   "metadata": {},
   "source": [
    "It is weird that some of these characters have NaN's here...let's replace them with \"unknown\" for now."
   ]
  },
  {
   "cell_type": "code",
   "execution_count": 259,
   "metadata": {
    "ExecuteTime": {
     "end_time": "2020-10-16T02:10:07.462342Z",
     "start_time": "2020-10-16T02:10:07.457440Z"
    }
   },
   "outputs": [],
   "source": [
    "df['FIRST APPEARANCE'] = df['FIRST APPEARANCE'].replace(np.nan, 'Unknown')"
   ]
  },
  {
   "cell_type": "markdown",
   "metadata": {},
   "source": [
    "### Year column"
   ]
  },
  {
   "cell_type": "markdown",
   "metadata": {},
   "source": [
    "Same treatment as first appearance - these columns seem connected."
   ]
  },
  {
   "cell_type": "code",
   "execution_count": 261,
   "metadata": {
    "ExecuteTime": {
     "end_time": "2020-10-16T02:11:41.101443Z",
     "start_time": "2020-10-16T02:11:41.095859Z"
    }
   },
   "outputs": [],
   "source": [
    "df['YEAR'] = df['YEAR'].replace(np.nan, 'Unknown')"
   ]
  },
  {
   "cell_type": "code",
   "execution_count": 262,
   "metadata": {
    "ExecuteTime": {
     "end_time": "2020-10-16T02:11:46.976965Z",
     "start_time": "2020-10-16T02:11:46.959161Z"
    }
   },
   "outputs": [
    {
     "data": {
      "text/plain": [
       "page_id             0\n",
       "name                0\n",
       "urlslug             0\n",
       "ID                  0\n",
       "ALIGN               0\n",
       "EYE                 0\n",
       "HAIR                0\n",
       "SEX                 0\n",
       "GSM                 0\n",
       "ALIVE               0\n",
       "APPEARANCES         0\n",
       "FIRST APPEARANCE    0\n",
       "YEAR                0\n",
       "is_marvel           0\n",
       "dtype: int64"
      ]
     },
     "execution_count": 262,
     "metadata": {},
     "output_type": "execute_result"
    }
   ],
   "source": [
    "df.isnull().sum()"
   ]
  },
  {
   "cell_type": "markdown",
   "metadata": {},
   "source": [
    "No more nulls!"
   ]
  },
  {
   "cell_type": "code",
   "execution_count": 755,
   "metadata": {
    "ExecuteTime": {
     "end_time": "2020-10-20T17:56:13.552475Z",
     "start_time": "2020-10-20T17:56:13.511160Z"
    }
   },
   "outputs": [
    {
     "data": {
      "text/html": [
       "<div>\n",
       "<style scoped>\n",
       "    .dataframe tbody tr th:only-of-type {\n",
       "        vertical-align: middle;\n",
       "    }\n",
       "\n",
       "    .dataframe tbody tr th {\n",
       "        vertical-align: top;\n",
       "    }\n",
       "\n",
       "    .dataframe thead th {\n",
       "        text-align: right;\n",
       "    }\n",
       "</style>\n",
       "<table border=\"1\" class=\"dataframe\">\n",
       "  <thead>\n",
       "    <tr style=\"text-align: right;\">\n",
       "      <th></th>\n",
       "      <th>page_id</th>\n",
       "      <th>name</th>\n",
       "      <th>urlslug</th>\n",
       "      <th>ID</th>\n",
       "      <th>ALIGN</th>\n",
       "      <th>EYE</th>\n",
       "      <th>HAIR</th>\n",
       "      <th>SEX</th>\n",
       "      <th>GSM</th>\n",
       "      <th>ALIVE</th>\n",
       "      <th>APPEARANCES</th>\n",
       "      <th>FIRST APPEARANCE</th>\n",
       "      <th>YEAR</th>\n",
       "      <th>is_marvel</th>\n",
       "    </tr>\n",
       "  </thead>\n",
       "  <tbody>\n",
       "    <tr>\n",
       "      <th>0</th>\n",
       "      <td>1678</td>\n",
       "      <td>Spider-Man (Peter Parker)</td>\n",
       "      <td>\\/Spider-Man_(Peter_Parker)</td>\n",
       "      <td>Secret Identity</td>\n",
       "      <td>Good Characters</td>\n",
       "      <td>Hazel Eyes</td>\n",
       "      <td>Brown Hair</td>\n",
       "      <td>Male Characters</td>\n",
       "      <td>Not_minority</td>\n",
       "      <td>Living Characters</td>\n",
       "      <td>4043.0</td>\n",
       "      <td>Aug-62</td>\n",
       "      <td>1962</td>\n",
       "      <td>1</td>\n",
       "    </tr>\n",
       "    <tr>\n",
       "      <th>1</th>\n",
       "      <td>7139</td>\n",
       "      <td>Captain America (Steven Rogers)</td>\n",
       "      <td>\\/Captain_America_(Steven_Rogers)</td>\n",
       "      <td>Public Identity</td>\n",
       "      <td>Good Characters</td>\n",
       "      <td>Blue Eyes</td>\n",
       "      <td>White Hair</td>\n",
       "      <td>Male Characters</td>\n",
       "      <td>Not_minority</td>\n",
       "      <td>Living Characters</td>\n",
       "      <td>3360.0</td>\n",
       "      <td>Mar-41</td>\n",
       "      <td>1941</td>\n",
       "      <td>1</td>\n",
       "    </tr>\n",
       "    <tr>\n",
       "      <th>2</th>\n",
       "      <td>64786</td>\n",
       "      <td>Wolverine (James \\\"Logan\\\" Howlett)</td>\n",
       "      <td>\\/Wolverine_(James_%22Logan%22_Howlett)</td>\n",
       "      <td>Public Identity</td>\n",
       "      <td>Neutral Characters</td>\n",
       "      <td>Blue Eyes</td>\n",
       "      <td>Black Hair</td>\n",
       "      <td>Male Characters</td>\n",
       "      <td>Not_minority</td>\n",
       "      <td>Living Characters</td>\n",
       "      <td>3061.0</td>\n",
       "      <td>Oct-74</td>\n",
       "      <td>1974</td>\n",
       "      <td>1</td>\n",
       "    </tr>\n",
       "    <tr>\n",
       "      <th>3</th>\n",
       "      <td>1868</td>\n",
       "      <td>Iron Man (Anthony \\\"Tony\\\" Stark)</td>\n",
       "      <td>\\/Iron_Man_(Anthony_%22Tony%22_Stark)</td>\n",
       "      <td>Public Identity</td>\n",
       "      <td>Good Characters</td>\n",
       "      <td>Blue Eyes</td>\n",
       "      <td>Black Hair</td>\n",
       "      <td>Male Characters</td>\n",
       "      <td>Not_minority</td>\n",
       "      <td>Living Characters</td>\n",
       "      <td>2961.0</td>\n",
       "      <td>Mar-63</td>\n",
       "      <td>1963</td>\n",
       "      <td>1</td>\n",
       "    </tr>\n",
       "    <tr>\n",
       "      <th>4</th>\n",
       "      <td>2460</td>\n",
       "      <td>Thor (Thor Odinson)</td>\n",
       "      <td>\\/Thor_(Thor_Odinson)</td>\n",
       "      <td>No Dual Identity</td>\n",
       "      <td>Good Characters</td>\n",
       "      <td>Blue Eyes</td>\n",
       "      <td>Blond Hair</td>\n",
       "      <td>Male Characters</td>\n",
       "      <td>Not_minority</td>\n",
       "      <td>Living Characters</td>\n",
       "      <td>2258.0</td>\n",
       "      <td>Nov-50</td>\n",
       "      <td>1950</td>\n",
       "      <td>1</td>\n",
       "    </tr>\n",
       "  </tbody>\n",
       "</table>\n",
       "</div>"
      ],
      "text/plain": [
       "   page_id                                 name  \\\n",
       "0     1678            Spider-Man (Peter Parker)   \n",
       "1     7139      Captain America (Steven Rogers)   \n",
       "2    64786  Wolverine (James \\\"Logan\\\" Howlett)   \n",
       "3     1868    Iron Man (Anthony \\\"Tony\\\" Stark)   \n",
       "4     2460                  Thor (Thor Odinson)   \n",
       "\n",
       "                                   urlslug                ID  \\\n",
       "0              \\/Spider-Man_(Peter_Parker)   Secret Identity   \n",
       "1        \\/Captain_America_(Steven_Rogers)   Public Identity   \n",
       "2  \\/Wolverine_(James_%22Logan%22_Howlett)   Public Identity   \n",
       "3    \\/Iron_Man_(Anthony_%22Tony%22_Stark)   Public Identity   \n",
       "4                    \\/Thor_(Thor_Odinson)  No Dual Identity   \n",
       "\n",
       "                ALIGN         EYE        HAIR              SEX           GSM  \\\n",
       "0     Good Characters  Hazel Eyes  Brown Hair  Male Characters  Not_minority   \n",
       "1     Good Characters   Blue Eyes  White Hair  Male Characters  Not_minority   \n",
       "2  Neutral Characters   Blue Eyes  Black Hair  Male Characters  Not_minority   \n",
       "3     Good Characters   Blue Eyes  Black Hair  Male Characters  Not_minority   \n",
       "4     Good Characters   Blue Eyes  Blond Hair  Male Characters  Not_minority   \n",
       "\n",
       "               ALIVE  APPEARANCES FIRST APPEARANCE  YEAR  is_marvel  \n",
       "0  Living Characters       4043.0           Aug-62  1962          1  \n",
       "1  Living Characters       3360.0           Mar-41  1941          1  \n",
       "2  Living Characters       3061.0           Oct-74  1974          1  \n",
       "3  Living Characters       2961.0           Mar-63  1963          1  \n",
       "4  Living Characters       2258.0           Nov-50  1950          1  "
      ]
     },
     "execution_count": 755,
     "metadata": {},
     "output_type": "execute_result"
    }
   ],
   "source": [
    "df.head()"
   ]
  },
  {
   "cell_type": "code",
   "execution_count": 765,
   "metadata": {
    "ExecuteTime": {
     "end_time": "2020-10-20T18:01:41.265301Z",
     "start_time": "2020-10-20T18:01:41.256138Z"
    }
   },
   "outputs": [
    {
     "data": {
      "text/plain": [
       "Unknown    884\n",
       "1993.0     763\n",
       "1994.0     715\n",
       "2006.0     684\n",
       "1992.0     633\n",
       "          ... \n",
       "1958.0      17\n",
       "1938.0      10\n",
       "1936.0       9\n",
       "1937.0       4\n",
       "1935.0       1\n",
       "Name: YEAR, Length: 80, dtype: int64"
      ]
     },
     "execution_count": 765,
     "metadata": {},
     "output_type": "execute_result"
    }
   ],
   "source": [
    "df['YEAR'].value_counts()"
   ]
  },
  {
   "cell_type": "code",
   "execution_count": null,
   "metadata": {},
   "outputs": [],
   "source": []
  },
  {
   "cell_type": "markdown",
   "metadata": {},
   "source": [
    "## Visualizing gategorical vars"
   ]
  },
  {
   "cell_type": "code",
   "execution_count": 263,
   "metadata": {
    "ExecuteTime": {
     "end_time": "2020-10-16T02:12:03.082803Z",
     "start_time": "2020-10-16T02:12:02.766855Z"
    },
    "scrolled": true
   },
   "outputs": [
    {
     "data": {
      "image/png": "[encoded data removed]",
      "text/plain": [
       "<Figure size 432x288 with 1 Axes>"
      ]
     },
     "metadata": {
      "needs_background": "light"
     },
     "output_type": "display_data"
    }
   ],
   "source": [
    "g=sns.countplot(x='EYE', data=df, order = df['EYE'].value_counts().index) # sns.displot(df, x=\"EYE\")\n",
    "plt.xticks(rotation=90)\n",
    "plt.tight_layout();"
   ]
  },
  {
   "cell_type": "code",
   "execution_count": 264,
   "metadata": {
    "ExecuteTime": {
     "end_time": "2020-10-16T02:12:06.251033Z",
     "start_time": "2020-10-16T02:12:06.112325Z"
    },
    "scrolled": true
   },
   "outputs": [
    {
     "data": {
      "image/png": "[encoded data removed]",
      "text/plain": [
       "<Figure size 432x288 with 1 Axes>"
      ]
     },
     "metadata": {
      "needs_background": "light"
     },
     "output_type": "display_data"
    }
   ],
   "source": [
    "g=sns.countplot(x='ALIGN', data=df, order = df['ALIGN'].value_counts().index) # sns.displot(df, x=\"EYE\")\n",
    "plt.xticks(rotation=90)\n",
    "plt.tight_layout();"
   ]
  },
  {
   "cell_type": "code",
   "execution_count": 265,
   "metadata": {
    "ExecuteTime": {
     "end_time": "2020-10-16T02:12:15.672504Z",
     "start_time": "2020-10-16T02:12:15.521015Z"
    },
    "scrolled": true
   },
   "outputs": [
    {
     "data": {
      "image/png": "[encoded data removed]",
      "text/plain": [
       "<Figure size 432x288 with 1 Axes>"
      ]
     },
     "metadata": {
      "needs_background": "light"
     },
     "output_type": "display_data"
    }
   ],
   "source": [
    "g=sns.countplot(x='ID', data=df, order = df['ID'].value_counts().index) # sns.displot(df, x=\"EYE\")\n",
    "plt.xticks(rotation=90)\n",
    "plt.tight_layout();"
   ]
  },
  {
   "cell_type": "code",
   "execution_count": 150,
   "metadata": {
    "ExecuteTime": {
     "end_time": "2020-10-16T00:34:43.641914Z",
     "start_time": "2020-10-16T00:34:43.637934Z"
    },
    "scrolled": true
   },
   "outputs": [
    {
     "data": {
      "text/plain": [
       "Index(['page_id', 'name', 'urlslug', 'ID', 'ALIGN', 'EYE', 'HAIR', 'SEX',\n",
       "       'GSM', 'ALIVE', 'APPEARANCES', 'FIRST APPEARANCE', 'YEAR', 'is_marvel'],\n",
       "      dtype='object')"
      ]
     },
     "execution_count": 150,
     "metadata": {},
     "output_type": "execute_result"
    }
   ],
   "source": [
    "df.columns"
   ]
  },
  {
   "cell_type": "markdown",
   "metadata": {},
   "source": [
    "### Need to fix 'FIRST APPEARANCE' column - later"
   ]
  },
  {
   "cell_type": "code",
   "execution_count": 69,
   "metadata": {
    "ExecuteTime": {
     "end_time": "2020-10-15T22:31:13.082992Z",
     "start_time": "2020-10-15T22:31:13.078108Z"
    },
    "scrolled": true
   },
   "outputs": [
    {
     "data": {
      "text/plain": [
       "Timestamp('1986-10-01 00:00:00')"
      ]
     },
     "execution_count": 69,
     "metadata": {},
     "output_type": "execute_result"
    }
   ],
   "source": [
    "pd.to_datetime(DC['FIRST APPEARANCE'][1])"
   ]
  },
  {
   "cell_type": "code",
   "execution_count": 70,
   "metadata": {
    "ExecuteTime": {
     "end_time": "2020-10-15T22:31:18.636197Z",
     "start_time": "2020-10-15T22:31:18.627867Z"
    }
   },
   "outputs": [],
   "source": [
    "marvel['FIRST APPEARANCE'] = pd.to_datetime(marvel['FIRST APPEARANCE'], format='%b-%y')"
   ]
  },
  {
   "cell_type": "code",
   "execution_count": 266,
   "metadata": {
    "ExecuteTime": {
     "end_time": "2020-10-16T02:12:52.431088Z",
     "start_time": "2020-10-16T02:12:52.426114Z"
    }
   },
   "outputs": [
    {
     "data": {
      "text/plain": [
       "0    Aug-62\n",
       "1    Mar-41\n",
       "2    Oct-74\n",
       "3    Mar-63\n",
       "4    Nov-50\n",
       "Name: FIRST APPEARANCE, dtype: object"
      ]
     },
     "execution_count": 266,
     "metadata": {},
     "output_type": "execute_result"
    }
   ],
   "source": [
    "marvel['FIRST APPEARANCE'].head()"
   ]
  },
  {
   "cell_type": "code",
   "execution_count": 79,
   "metadata": {
    "ExecuteTime": {
     "end_time": "2020-10-15T22:33:34.246153Z",
     "start_time": "2020-10-15T22:33:34.241162Z"
    }
   },
   "outputs": [
    {
     "name": "stdout",
     "output_type": "stream",
     "text": [
      "1962-08-01\n",
      "1941-03-01\n",
      "1974-10-01\n",
      "1963-03-01\n",
      "1950-11-01\n"
     ]
    }
   ],
   "source": [
    "for x in marvel['FIRST APPEARANCE'].head():\n",
    "    if x.year > 2020:\n",
    "        year = int(x.year - 100)\n",
    "    else:\n",
    "        year = x.year\n",
    "    print(datetime.date(year,x.month,x.day))"
   ]
  },
  {
   "cell_type": "code",
   "execution_count": null,
   "metadata": {},
   "outputs": [],
   "source": [
    "def fix_date(x):\n",
    "    if x.year > 2020:\n",
    "        year = x.year - 100\n",
    "    else:\n",
    "        year = x.year\n",
    "    return datetime.date(year,x.month,x.day)\n",
    "\n",
    "\n",
    "marvel['FIRST APPEARANCE'] = marvel['FIRST APPEARANCE'].apply(fix_date)"
   ]
  },
  {
   "cell_type": "code",
   "execution_count": 86,
   "metadata": {
    "ExecuteTime": {
     "end_time": "2020-10-15T22:40:24.385864Z",
     "start_time": "2020-10-15T22:40:24.379616Z"
    }
   },
   "outputs": [
    {
     "data": {
      "text/plain": [
       "0    1962-08-01\n",
       "1    1941-03-01\n",
       "2    1974-10-01\n",
       "3    1963-03-01\n",
       "4    1950-11-01\n",
       "Name: FIRST APPEARANCE, dtype: object"
      ]
     },
     "execution_count": 86,
     "metadata": {},
     "output_type": "execute_result"
    }
   ],
   "source": [
    "marvel['FIRST APPEARANCE'][:5].apply(fix_date)"
   ]
  },
  {
   "cell_type": "code",
   "execution_count": 47,
   "metadata": {
    "ExecuteTime": {
     "end_time": "2020-10-15T22:23:29.124267Z",
     "start_time": "2020-10-15T22:23:29.120270Z"
    }
   },
   "outputs": [
    {
     "data": {
      "text/plain": [
       "2062"
      ]
     },
     "execution_count": 47,
     "metadata": {},
     "output_type": "execute_result"
    }
   ],
   "source": [
    "marvel['FIRST APPEARANCE'][0].year"
   ]
  },
  {
   "cell_type": "markdown",
   "metadata": {},
   "source": [
    "# Features and target"
   ]
  },
  {
   "cell_type": "markdown",
   "metadata": {},
   "source": [
    "## Issue 1: \"Black eyeballs\" and \"Compound eyes\" are screwing up the transformation"
   ]
  },
  {
   "cell_type": "code",
   "execution_count": 273,
   "metadata": {
    "ExecuteTime": {
     "end_time": "2020-10-16T02:39:11.437807Z",
     "start_time": "2020-10-16T02:39:11.418481Z"
    }
   },
   "outputs": [
    {
     "data": {
      "text/html": [
       "<div>\n",
       "<style scoped>\n",
       "    .dataframe tbody tr th:only-of-type {\n",
       "        vertical-align: middle;\n",
       "    }\n",
       "\n",
       "    .dataframe tbody tr th {\n",
       "        vertical-align: top;\n",
       "    }\n",
       "\n",
       "    .dataframe thead th {\n",
       "        text-align: right;\n",
       "    }\n",
       "</style>\n",
       "<table border=\"1\" class=\"dataframe\">\n",
       "  <thead>\n",
       "    <tr style=\"text-align: right;\">\n",
       "      <th></th>\n",
       "      <th>page_id</th>\n",
       "      <th>name</th>\n",
       "      <th>urlslug</th>\n",
       "      <th>ID</th>\n",
       "      <th>ALIGN</th>\n",
       "      <th>EYE</th>\n",
       "      <th>HAIR</th>\n",
       "      <th>SEX</th>\n",
       "      <th>GSM</th>\n",
       "      <th>ALIVE</th>\n",
       "      <th>APPEARANCES</th>\n",
       "      <th>FIRST APPEARANCE</th>\n",
       "      <th>YEAR</th>\n",
       "      <th>is_marvel</th>\n",
       "    </tr>\n",
       "  </thead>\n",
       "  <tbody>\n",
       "    <tr>\n",
       "      <th>52</th>\n",
       "      <td>1680</td>\n",
       "      <td>Remy LeBeau (Earth-616)</td>\n",
       "      <td>\\/Remy_LeBeau_(Earth-616)</td>\n",
       "      <td>Secret Identity</td>\n",
       "      <td>Good Characters</td>\n",
       "      <td>Black Eyeballs</td>\n",
       "      <td>Brown Hair</td>\n",
       "      <td>Male Characters</td>\n",
       "      <td>Not_minority</td>\n",
       "      <td>Living Characters</td>\n",
       "      <td>636.0</td>\n",
       "      <td>Jul-90</td>\n",
       "      <td>1990</td>\n",
       "      <td>1</td>\n",
       "    </tr>\n",
       "    <tr>\n",
       "      <th>183</th>\n",
       "      <td>15907</td>\n",
       "      <td>Megan Gwynn (Earth-616)</td>\n",
       "      <td>\\/Megan_Gwynn_(Earth-616)</td>\n",
       "      <td>Public Identity</td>\n",
       "      <td>Good Characters</td>\n",
       "      <td>Black Eyeballs</td>\n",
       "      <td>Pink Hair</td>\n",
       "      <td>Female Characters</td>\n",
       "      <td>Not_minority</td>\n",
       "      <td>Living Characters</td>\n",
       "      <td>229.0</td>\n",
       "      <td>Nov-04</td>\n",
       "      <td>2004</td>\n",
       "      <td>1</td>\n",
       "    </tr>\n",
       "    <tr>\n",
       "      <th>6836</th>\n",
       "      <td>320831</td>\n",
       "      <td>Mrs. Gwynn (Earth-616)</td>\n",
       "      <td>\\/Mrs._Gwynn_(Earth-616)</td>\n",
       "      <td>Public Identity</td>\n",
       "      <td>Neutral Characters</td>\n",
       "      <td>Black Eyeballs</td>\n",
       "      <td>Pink Hair</td>\n",
       "      <td>Female Characters</td>\n",
       "      <td>Not_minority</td>\n",
       "      <td>Living Characters</td>\n",
       "      <td>4.0</td>\n",
       "      <td>Apr-10</td>\n",
       "      <td>2010</td>\n",
       "      <td>1</td>\n",
       "    </tr>\n",
       "    <tr>\n",
       "      <th>7272</th>\n",
       "      <td>165697</td>\n",
       "      <td>Lepirax (Earth-616)</td>\n",
       "      <td>\\/Lepirax_(Earth-616)</td>\n",
       "      <td>NA</td>\n",
       "      <td>Bad Characters</td>\n",
       "      <td>Compound Eyes</td>\n",
       "      <td>no color</td>\n",
       "      <td>Male Characters</td>\n",
       "      <td>Not_minority</td>\n",
       "      <td>Living Characters</td>\n",
       "      <td>3.0</td>\n",
       "      <td>Nov-77</td>\n",
       "      <td>1977</td>\n",
       "      <td>1</td>\n",
       "    </tr>\n",
       "  </tbody>\n",
       "</table>\n",
       "</div>"
      ],
      "text/plain": [
       "      page_id                     name                    urlslug  \\\n",
       "52       1680  Remy LeBeau (Earth-616)  \\/Remy_LeBeau_(Earth-616)   \n",
       "183     15907  Megan Gwynn (Earth-616)  \\/Megan_Gwynn_(Earth-616)   \n",
       "6836   320831   Mrs. Gwynn (Earth-616)   \\/Mrs._Gwynn_(Earth-616)   \n",
       "7272   165697      Lepirax (Earth-616)      \\/Lepirax_(Earth-616)   \n",
       "\n",
       "                   ID               ALIGN             EYE        HAIR  \\\n",
       "52    Secret Identity     Good Characters  Black Eyeballs  Brown Hair   \n",
       "183   Public Identity     Good Characters  Black Eyeballs   Pink Hair   \n",
       "6836  Public Identity  Neutral Characters  Black Eyeballs   Pink Hair   \n",
       "7272               NA      Bad Characters   Compound Eyes    no color   \n",
       "\n",
       "                    SEX           GSM              ALIVE  APPEARANCES  \\\n",
       "52      Male Characters  Not_minority  Living Characters        636.0   \n",
       "183   Female Characters  Not_minority  Living Characters        229.0   \n",
       "6836  Female Characters  Not_minority  Living Characters          4.0   \n",
       "7272    Male Characters  Not_minority  Living Characters          3.0   \n",
       "\n",
       "     FIRST APPEARANCE  YEAR  is_marvel  \n",
       "52             Jul-90  1990          1  \n",
       "183            Nov-04  2004          1  \n",
       "6836           Apr-10  2010          1  \n",
       "7272           Nov-77  1977          1  "
      ]
     },
     "execution_count": 273,
     "metadata": {},
     "output_type": "execute_result"
    }
   ],
   "source": [
    "\n",
    "df.loc[(df['EYE'] == 'Compound Eyes')|(df['EYE'] == 'Black Eyeballs')]"
   ]
  },
  {
   "cell_type": "code",
   "execution_count": 277,
   "metadata": {
    "ExecuteTime": {
     "end_time": "2020-10-16T02:57:55.612695Z",
     "start_time": "2020-10-16T02:57:55.605224Z"
    }
   },
   "outputs": [],
   "source": [
    "df['EYE'] = df['EYE'].replace(['Black Eyeballs', 'Magenta Eyes', 'Compound Eyes'], ['Black Eyes', 'Purple Eyes', 'Multiple Eyes'])"
   ]
  },
  {
   "cell_type": "code",
   "execution_count": 278,
   "metadata": {
    "ExecuteTime": {
     "end_time": "2020-10-16T02:58:00.442837Z",
     "start_time": "2020-10-16T02:58:00.435261Z"
    }
   },
   "outputs": [
    {
     "data": {
      "text/plain": [
       "no color              13395\n",
       "Blue Eyes              3064\n",
       "Brown Eyes             2803\n",
       "Black Eyes              970\n",
       "Green Eyes              904\n",
       "Red Eyes                716\n",
       "White Eyes              516\n",
       "Yellow Eyes             342\n",
       "Grey Eyes               135\n",
       "Hazel Eyes               99\n",
       "Variable Eyes            49\n",
       "Photocellular Eyes       48\n",
       "Purple Eyes              47\n",
       "Orange Eyes              35\n",
       "Pink Eyes                27\n",
       "Violet Eyes              23\n",
       "Gold Eyes                23\n",
       "One Eye                  21\n",
       "Amber Eyes               15\n",
       "Silver Eyes              12\n",
       "Multiple Eyes             8\n",
       "No Eyes                   7\n",
       "Auburn Hair               7\n",
       "Yellow Eyeballs           6\n",
       "Name: EYE, dtype: int64"
      ]
     },
     "execution_count": 278,
     "metadata": {},
     "output_type": "execute_result"
    }
   ],
   "source": [
    "df['EYE'].value_counts()"
   ]
  },
  {
   "cell_type": "markdown",
   "metadata": {},
   "source": [
    "## Issue 2: \"Dyed Hair\" is screwing up the transformation"
   ]
  },
  {
   "cell_type": "code",
   "execution_count": 289,
   "metadata": {
    "ExecuteTime": {
     "end_time": "2020-10-16T03:04:00.360577Z",
     "start_time": "2020-10-16T03:04:00.351745Z"
    }
   },
   "outputs": [],
   "source": [
    "df['HAIR'] = df['HAIR'].replace([\"Reddish Brown Hair\",'Orange-brown Hair', 'Platinum Blond Hair', 'Bronze Hair', 'Dyed Hair'], ['Brown Hair', 'Brown Hair','Blond Hair', 'Blond Hair', 'Variable Hair'])"
   ]
  },
  {
   "cell_type": "code",
   "execution_count": 290,
   "metadata": {
    "ExecuteTime": {
     "end_time": "2020-10-16T03:04:05.833105Z",
     "start_time": "2020-10-16T03:04:05.825235Z"
    },
    "scrolled": true
   },
   "outputs": [
    {
     "data": {
      "text/plain": [
       "no color                 6538\n",
       "Black Hair               5329\n",
       "Brown Hair               3493\n",
       "Blond Hair               2329\n",
       "No Hair                  1176\n",
       "White Hair               1100\n",
       "Red Hair                 1081\n",
       "Bald                      838\n",
       "Grey Hair                 688\n",
       "Green Hair                159\n",
       "Blue Hair                  97\n",
       "Purple Hair                79\n",
       "Auburn Hair                78\n",
       "Strawberry Blond Hair      75\n",
       "Orange Hair                64\n",
       "Pink Hair                  42\n",
       "Variable Hair              33\n",
       "Yellow Hair                20\n",
       "Silver Hair                19\n",
       "Gold Hair                  13\n",
       "Reddish Blond Hair          6\n",
       "Light Brown Hair            6\n",
       "Magenta Hair                5\n",
       "Violet Hair                 4\n",
       "Name: HAIR, dtype: int64"
      ]
     },
     "execution_count": 290,
     "metadata": {},
     "output_type": "execute_result"
    }
   ],
   "source": [
    "df['HAIR'].value_counts()"
   ]
  },
  {
   "cell_type": "code",
   "execution_count": null,
   "metadata": {},
   "outputs": [],
   "source": []
  },
  {
   "cell_type": "markdown",
   "metadata": {},
   "source": [
    "## Issue 3: \"Genderfluid Characters\" is screwing up the transformation"
   ]
  },
  {
   "cell_type": "code",
   "execution_count": 301,
   "metadata": {
    "ExecuteTime": {
     "end_time": "2020-10-16T03:11:59.942891Z",
     "start_time": "2020-10-16T03:11:59.927552Z"
    }
   },
   "outputs": [
    {
     "data": {
      "text/html": [
       "<div>\n",
       "<style scoped>\n",
       "    .dataframe tbody tr th:only-of-type {\n",
       "        vertical-align: middle;\n",
       "    }\n",
       "\n",
       "    .dataframe tbody tr th {\n",
       "        vertical-align: top;\n",
       "    }\n",
       "\n",
       "    .dataframe thead th {\n",
       "        text-align: right;\n",
       "    }\n",
       "</style>\n",
       "<table border=\"1\" class=\"dataframe\">\n",
       "  <thead>\n",
       "    <tr style=\"text-align: right;\">\n",
       "      <th></th>\n",
       "      <th>page_id</th>\n",
       "      <th>name</th>\n",
       "      <th>urlslug</th>\n",
       "      <th>ID</th>\n",
       "      <th>ALIGN</th>\n",
       "      <th>EYE</th>\n",
       "      <th>HAIR</th>\n",
       "      <th>SEX</th>\n",
       "      <th>GSM</th>\n",
       "      <th>ALIVE</th>\n",
       "      <th>APPEARANCES</th>\n",
       "      <th>FIRST APPEARANCE</th>\n",
       "      <th>YEAR</th>\n",
       "      <th>is_marvel</th>\n",
       "    </tr>\n",
       "  </thead>\n",
       "  <tbody>\n",
       "    <tr>\n",
       "      <th>20253</th>\n",
       "      <td>317067</td>\n",
       "      <td>Daystar (New Earth)</td>\n",
       "      <td>\\/wiki\\/Daystar_(New_Earth)</td>\n",
       "      <td>NA</td>\n",
       "      <td>Bad Characters</td>\n",
       "      <td>no color</td>\n",
       "      <td>no color</td>\n",
       "      <td>Transgender Characters</td>\n",
       "      <td>Not_minority</td>\n",
       "      <td>Deceased Characters</td>\n",
       "      <td>4.0</td>\n",
       "      <td>2009, October</td>\n",
       "      <td>2009</td>\n",
       "      <td>0</td>\n",
       "    </tr>\n",
       "  </tbody>\n",
       "</table>\n",
       "</div>"
      ],
      "text/plain": [
       "       page_id                 name                      urlslug  ID  \\\n",
       "20253   317067  Daystar (New Earth)  \\/wiki\\/Daystar_(New_Earth)  NA   \n",
       "\n",
       "                ALIGN       EYE      HAIR                     SEX  \\\n",
       "20253  Bad Characters  no color  no color  Transgender Characters   \n",
       "\n",
       "                GSM                ALIVE  APPEARANCES FIRST APPEARANCE  YEAR  \\\n",
       "20253  Not_minority  Deceased Characters          4.0    2009, October  2009   \n",
       "\n",
       "       is_marvel  \n",
       "20253          0  "
      ]
     },
     "execution_count": 301,
     "metadata": {},
     "output_type": "execute_result"
    }
   ],
   "source": [
    "df.loc[df['SEX'] == 'Transgender Characters']"
   ]
  },
  {
   "cell_type": "code",
   "execution_count": 316,
   "metadata": {
    "ExecuteTime": {
     "end_time": "2020-10-16T03:38:17.389730Z",
     "start_time": "2020-10-16T03:38:17.381967Z"
    }
   },
   "outputs": [],
   "source": [
    "df['SEX'] = df['SEX'].replace(['Genderless Characters', 'Genderfluid Characters', 'Transgender Characters'], ['Agender Characters', 'Agender Characters', 'Agender Characters'])"
   ]
  },
  {
   "cell_type": "code",
   "execution_count": 317,
   "metadata": {
    "ExecuteTime": {
     "end_time": "2020-10-16T03:38:17.859104Z",
     "start_time": "2020-10-16T03:38:17.850926Z"
    }
   },
   "outputs": [
    {
     "data": {
      "text/plain": [
       "Male Characters       16421\n",
       "Female Characters      5804\n",
       "NA                      979\n",
       "Agender Characters       68\n",
       "Name: SEX, dtype: int64"
      ]
     },
     "execution_count": 317,
     "metadata": {},
     "output_type": "execute_result"
    }
   ],
   "source": [
    "df['SEX'].value_counts()"
   ]
  },
  {
   "cell_type": "markdown",
   "metadata": {},
   "source": [
    "## Issue 4: \"Transvestites\" (also who uses that word)"
   ]
  },
  {
   "cell_type": "code",
   "execution_count": 357,
   "metadata": {
    "ExecuteTime": {
     "end_time": "2020-10-16T04:52:52.970962Z",
     "start_time": "2020-10-16T04:52:52.963337Z"
    }
   },
   "outputs": [
    {
     "data": {
      "text/plain": [
       "Not_minority              23118\n",
       "Homosexual Characters       120\n",
       "Bisexual Characters          29\n",
       "Transgender Characters        2\n",
       "Pansexual Characters          1\n",
       "Genderfluid Characters        1\n",
       "Transvestites                 1\n",
       "Name: GSM, dtype: int64"
      ]
     },
     "execution_count": 357,
     "metadata": {},
     "output_type": "execute_result"
    }
   ],
   "source": [
    "df['GSM'].value_counts()"
   ]
  },
  {
   "cell_type": "code",
   "execution_count": 361,
   "metadata": {
    "ExecuteTime": {
     "end_time": "2020-10-16T04:55:44.310148Z",
     "start_time": "2020-10-16T04:55:44.293845Z"
    }
   },
   "outputs": [
    {
     "data": {
      "text/html": [
       "<div>\n",
       "<style scoped>\n",
       "    .dataframe tbody tr th:only-of-type {\n",
       "        vertical-align: middle;\n",
       "    }\n",
       "\n",
       "    .dataframe tbody tr th {\n",
       "        vertical-align: top;\n",
       "    }\n",
       "\n",
       "    .dataframe thead th {\n",
       "        text-align: right;\n",
       "    }\n",
       "</style>\n",
       "<table border=\"1\" class=\"dataframe\">\n",
       "  <thead>\n",
       "    <tr style=\"text-align: right;\">\n",
       "      <th></th>\n",
       "      <th>page_id</th>\n",
       "      <th>name</th>\n",
       "      <th>urlslug</th>\n",
       "      <th>ID</th>\n",
       "      <th>ALIGN</th>\n",
       "      <th>EYE</th>\n",
       "      <th>HAIR</th>\n",
       "      <th>SEX</th>\n",
       "      <th>GSM</th>\n",
       "      <th>ALIVE</th>\n",
       "      <th>APPEARANCES</th>\n",
       "      <th>FIRST APPEARANCE</th>\n",
       "      <th>YEAR</th>\n",
       "      <th>is_marvel</th>\n",
       "    </tr>\n",
       "  </thead>\n",
       "  <tbody>\n",
       "    <tr>\n",
       "      <th>71</th>\n",
       "      <td>1409</td>\n",
       "      <td>Deadpool (Wade Wilson)</td>\n",
       "      <td>\\/Deadpool_(Wade_Wilson)</td>\n",
       "      <td>Secret Identity</td>\n",
       "      <td>Neutral Characters</td>\n",
       "      <td>Brown Eyes</td>\n",
       "      <td>Bald</td>\n",
       "      <td>Male Characters</td>\n",
       "      <td>Transvestites</td>\n",
       "      <td>Living Characters</td>\n",
       "      <td>500.0</td>\n",
       "      <td>Feb-91</td>\n",
       "      <td>1991</td>\n",
       "      <td>1</td>\n",
       "    </tr>\n",
       "  </tbody>\n",
       "</table>\n",
       "</div>"
      ],
      "text/plain": [
       "    page_id                    name                   urlslug  \\\n",
       "71     1409  Deadpool (Wade Wilson)  \\/Deadpool_(Wade_Wilson)   \n",
       "\n",
       "                 ID               ALIGN         EYE  HAIR              SEX  \\\n",
       "71  Secret Identity  Neutral Characters  Brown Eyes  Bald  Male Characters   \n",
       "\n",
       "              GSM              ALIVE  APPEARANCES FIRST APPEARANCE  YEAR  \\\n",
       "71  Transvestites  Living Characters        500.0           Feb-91  1991   \n",
       "\n",
       "    is_marvel  \n",
       "71          1  "
      ]
     },
     "execution_count": 361,
     "metadata": {},
     "output_type": "execute_result"
    }
   ],
   "source": [
    "df.loc[df['GSM'] == 'Transvestites']"
   ]
  },
  {
   "cell_type": "code",
   "execution_count": 362,
   "metadata": {
    "ExecuteTime": {
     "end_time": "2020-10-16T04:57:23.152435Z",
     "start_time": "2020-10-16T04:57:23.143327Z"
    }
   },
   "outputs": [],
   "source": [
    "df['GSM'] = df['GSM'].replace(['Transgender Characters', 'Pansexual Characters', 'Genderfluid Characters', 'Transvestites'], ['Other', 'Other','Other','Other'])"
   ]
  },
  {
   "cell_type": "markdown",
   "metadata": {},
   "source": [
    "## Selecting features"
   ]
  },
  {
   "cell_type": "markdown",
   "metadata": {},
   "source": [
    "### Cleaning our Y"
   ]
  },
  {
   "cell_type": "code",
   "execution_count": 384,
   "metadata": {
    "ExecuteTime": {
     "end_time": "2020-10-16T05:01:36.032406Z",
     "start_time": "2020-10-16T05:01:36.024925Z"
    }
   },
   "outputs": [
    {
     "data": {
      "text/plain": [
       "Bad Characters        9615\n",
       "Good Characters       7468\n",
       "no allegiance         3413\n",
       "Neutral Characters    2773\n",
       "Reformed Criminals       3\n",
       "Name: ALIGN, dtype: int64"
      ]
     },
     "execution_count": 384,
     "metadata": {},
     "output_type": "execute_result"
    }
   ],
   "source": [
    "df['ALIGN'].value_counts()"
   ]
  },
  {
   "cell_type": "code",
   "execution_count": 385,
   "metadata": {
    "ExecuteTime": {
     "end_time": "2020-10-16T05:03:30.590031Z",
     "start_time": "2020-10-16T05:03:30.572840Z"
    },
    "scrolled": true
   },
   "outputs": [
    {
     "data": {
      "text/html": [
       "<div>\n",
       "<style scoped>\n",
       "    .dataframe tbody tr th:only-of-type {\n",
       "        vertical-align: middle;\n",
       "    }\n",
       "\n",
       "    .dataframe tbody tr th {\n",
       "        vertical-align: top;\n",
       "    }\n",
       "\n",
       "    .dataframe thead th {\n",
       "        text-align: right;\n",
       "    }\n",
       "</style>\n",
       "<table border=\"1\" class=\"dataframe\">\n",
       "  <thead>\n",
       "    <tr style=\"text-align: right;\">\n",
       "      <th></th>\n",
       "      <th>page_id</th>\n",
       "      <th>name</th>\n",
       "      <th>urlslug</th>\n",
       "      <th>ID</th>\n",
       "      <th>ALIGN</th>\n",
       "      <th>EYE</th>\n",
       "      <th>HAIR</th>\n",
       "      <th>SEX</th>\n",
       "      <th>GSM</th>\n",
       "      <th>ALIVE</th>\n",
       "      <th>APPEARANCES</th>\n",
       "      <th>FIRST APPEARANCE</th>\n",
       "      <th>YEAR</th>\n",
       "      <th>is_marvel</th>\n",
       "    </tr>\n",
       "  </thead>\n",
       "  <tbody>\n",
       "    <tr>\n",
       "      <th>16763</th>\n",
       "      <td>1523</td>\n",
       "      <td>Owen Mercer (New Earth)</td>\n",
       "      <td>\\/wiki\\/Owen_Mercer_(New_Earth)</td>\n",
       "      <td>Secret Identity</td>\n",
       "      <td>Reformed Criminals</td>\n",
       "      <td>Blue Eyes</td>\n",
       "      <td>Red Hair</td>\n",
       "      <td>Male Characters</td>\n",
       "      <td>Not_minority</td>\n",
       "      <td>Deceased Characters</td>\n",
       "      <td>78.0</td>\n",
       "      <td>2004, October</td>\n",
       "      <td>2004</td>\n",
       "      <td>0</td>\n",
       "    </tr>\n",
       "    <tr>\n",
       "      <th>19665</th>\n",
       "      <td>344298</td>\n",
       "      <td>Brian Elliot (New Earth)</td>\n",
       "      <td>\\/wiki\\/Brian_Elliot_(New_Earth)</td>\n",
       "      <td>Public Identity</td>\n",
       "      <td>Reformed Criminals</td>\n",
       "      <td>no color</td>\n",
       "      <td>Blond Hair</td>\n",
       "      <td>Male Characters</td>\n",
       "      <td>Not_minority</td>\n",
       "      <td>Living Characters</td>\n",
       "      <td>6.0</td>\n",
       "      <td>1993, May</td>\n",
       "      <td>1993</td>\n",
       "      <td>0</td>\n",
       "    </tr>\n",
       "    <tr>\n",
       "      <th>19975</th>\n",
       "      <td>201316</td>\n",
       "      <td>Paula von Gunther (New Earth)</td>\n",
       "      <td>\\/wiki\\/Paula_von_Gunther_(New_Earth)</td>\n",
       "      <td>NA</td>\n",
       "      <td>Reformed Criminals</td>\n",
       "      <td>Blue Eyes</td>\n",
       "      <td>Blond Hair</td>\n",
       "      <td>Female Characters</td>\n",
       "      <td>Not_minority</td>\n",
       "      <td>Living Characters</td>\n",
       "      <td>5.0</td>\n",
       "      <td>1998, March</td>\n",
       "      <td>1998</td>\n",
       "      <td>0</td>\n",
       "    </tr>\n",
       "  </tbody>\n",
       "</table>\n",
       "</div>"
      ],
      "text/plain": [
       "       page_id                           name  \\\n",
       "16763     1523        Owen Mercer (New Earth)   \n",
       "19665   344298       Brian Elliot (New Earth)   \n",
       "19975   201316  Paula von Gunther (New Earth)   \n",
       "\n",
       "                                     urlslug               ID  \\\n",
       "16763        \\/wiki\\/Owen_Mercer_(New_Earth)  Secret Identity   \n",
       "19665       \\/wiki\\/Brian_Elliot_(New_Earth)  Public Identity   \n",
       "19975  \\/wiki\\/Paula_von_Gunther_(New_Earth)               NA   \n",
       "\n",
       "                    ALIGN        EYE        HAIR                SEX  \\\n",
       "16763  Reformed Criminals  Blue Eyes    Red Hair    Male Characters   \n",
       "19665  Reformed Criminals   no color  Blond Hair    Male Characters   \n",
       "19975  Reformed Criminals  Blue Eyes  Blond Hair  Female Characters   \n",
       "\n",
       "                GSM                ALIVE  APPEARANCES FIRST APPEARANCE  YEAR  \\\n",
       "16763  Not_minority  Deceased Characters         78.0    2004, October  2004   \n",
       "19665  Not_minority    Living Characters          6.0        1993, May  1993   \n",
       "19975  Not_minority    Living Characters          5.0      1998, March  1998   \n",
       "\n",
       "       is_marvel  \n",
       "16763          0  \n",
       "19665          0  \n",
       "19975          0  "
      ]
     },
     "execution_count": 385,
     "metadata": {},
     "output_type": "execute_result"
    }
   ],
   "source": [
    "df.loc[df['ALIGN'] == 'Reformed Criminals']"
   ]
  },
  {
   "cell_type": "code",
   "execution_count": 386,
   "metadata": {
    "ExecuteTime": {
     "end_time": "2020-10-16T05:04:11.549304Z",
     "start_time": "2020-10-16T05:04:11.541694Z"
    }
   },
   "outputs": [],
   "source": [
    "df['ALIGN'] = df['ALIGN'].replace(['no allegiance', 'Reformed Criminals'], ['Neutral Characters', 'Neutral Characters'])"
   ]
  },
  {
   "cell_type": "markdown",
   "metadata": {},
   "source": [
    "# Looking at feature distribution across classes"
   ]
  },
  {
   "cell_type": "code",
   "execution_count": 11,
   "metadata": {},
   "outputs": [
    {
     "data": {
      "text/html": [
       "<div>\n",
       "<style scoped>\n",
       "    .dataframe tbody tr th:only-of-type {\n",
       "        vertical-align: middle;\n",
       "    }\n",
       "\n",
       "    .dataframe tbody tr th {\n",
       "        vertical-align: top;\n",
       "    }\n",
       "\n",
       "    .dataframe thead th {\n",
       "        text-align: right;\n",
       "    }\n",
       "</style>\n",
       "<table border=\"1\" class=\"dataframe\">\n",
       "  <thead>\n",
       "    <tr style=\"text-align: right;\">\n",
       "      <th></th>\n",
       "      <th>page_id</th>\n",
       "      <th>name</th>\n",
       "      <th>urlslug</th>\n",
       "      <th>ID</th>\n",
       "      <th>ALIGN</th>\n",
       "      <th>EYE</th>\n",
       "      <th>HAIR</th>\n",
       "      <th>SEX</th>\n",
       "      <th>GSM</th>\n",
       "      <th>ALIVE</th>\n",
       "      <th>APPEARANCES</th>\n",
       "      <th>FIRST APPEARANCE</th>\n",
       "      <th>YEAR</th>\n",
       "      <th>is_marvel</th>\n",
       "    </tr>\n",
       "  </thead>\n",
       "  <tbody>\n",
       "    <tr>\n",
       "      <th>0</th>\n",
       "      <td>1678</td>\n",
       "      <td>Spider-Man (Peter Parker)</td>\n",
       "      <td>\\/Spider-Man_(Peter_Parker)</td>\n",
       "      <td>Secret Identity</td>\n",
       "      <td>Good Characters</td>\n",
       "      <td>Hazel Eyes</td>\n",
       "      <td>Brown Hair</td>\n",
       "      <td>Male Characters</td>\n",
       "      <td>NaN</td>\n",
       "      <td>Living Characters</td>\n",
       "      <td>4043.0</td>\n",
       "      <td>Aug-62</td>\n",
       "      <td>1962.0</td>\n",
       "      <td>1</td>\n",
       "    </tr>\n",
       "    <tr>\n",
       "      <th>1</th>\n",
       "      <td>7139</td>\n",
       "      <td>Captain America (Steven Rogers)</td>\n",
       "      <td>\\/Captain_America_(Steven_Rogers)</td>\n",
       "      <td>Public Identity</td>\n",
       "      <td>Good Characters</td>\n",
       "      <td>Blue Eyes</td>\n",
       "      <td>White Hair</td>\n",
       "      <td>Male Characters</td>\n",
       "      <td>NaN</td>\n",
       "      <td>Living Characters</td>\n",
       "      <td>3360.0</td>\n",
       "      <td>Mar-41</td>\n",
       "      <td>1941.0</td>\n",
       "      <td>1</td>\n",
       "    </tr>\n",
       "    <tr>\n",
       "      <th>3</th>\n",
       "      <td>1868</td>\n",
       "      <td>Iron Man (Anthony \\\"Tony\\\" Stark)</td>\n",
       "      <td>\\/Iron_Man_(Anthony_%22Tony%22_Stark)</td>\n",
       "      <td>Public Identity</td>\n",
       "      <td>Good Characters</td>\n",
       "      <td>Blue Eyes</td>\n",
       "      <td>Black Hair</td>\n",
       "      <td>Male Characters</td>\n",
       "      <td>NaN</td>\n",
       "      <td>Living Characters</td>\n",
       "      <td>2961.0</td>\n",
       "      <td>Mar-63</td>\n",
       "      <td>1963.0</td>\n",
       "      <td>1</td>\n",
       "    </tr>\n",
       "    <tr>\n",
       "      <th>4</th>\n",
       "      <td>2460</td>\n",
       "      <td>Thor (Thor Odinson)</td>\n",
       "      <td>\\/Thor_(Thor_Odinson)</td>\n",
       "      <td>No Dual Identity</td>\n",
       "      <td>Good Characters</td>\n",
       "      <td>Blue Eyes</td>\n",
       "      <td>Blond Hair</td>\n",
       "      <td>Male Characters</td>\n",
       "      <td>NaN</td>\n",
       "      <td>Living Characters</td>\n",
       "      <td>2258.0</td>\n",
       "      <td>Nov-50</td>\n",
       "      <td>1950.0</td>\n",
       "      <td>1</td>\n",
       "    </tr>\n",
       "    <tr>\n",
       "      <th>5</th>\n",
       "      <td>2458</td>\n",
       "      <td>Benjamin Grimm (Earth-616)</td>\n",
       "      <td>\\/Benjamin_Grimm_(Earth-616)</td>\n",
       "      <td>Public Identity</td>\n",
       "      <td>Good Characters</td>\n",
       "      <td>Blue Eyes</td>\n",
       "      <td>No Hair</td>\n",
       "      <td>Male Characters</td>\n",
       "      <td>NaN</td>\n",
       "      <td>Living Characters</td>\n",
       "      <td>2255.0</td>\n",
       "      <td>Nov-61</td>\n",
       "      <td>1961.0</td>\n",
       "      <td>1</td>\n",
       "    </tr>\n",
       "    <tr>\n",
       "      <th>6</th>\n",
       "      <td>2166</td>\n",
       "      <td>Reed Richards (Earth-616)</td>\n",
       "      <td>\\/Reed_Richards_(Earth-616)</td>\n",
       "      <td>Public Identity</td>\n",
       "      <td>Good Characters</td>\n",
       "      <td>Brown Eyes</td>\n",
       "      <td>Brown Hair</td>\n",
       "      <td>Male Characters</td>\n",
       "      <td>NaN</td>\n",
       "      <td>Living Characters</td>\n",
       "      <td>2072.0</td>\n",
       "      <td>Nov-61</td>\n",
       "      <td>1961.0</td>\n",
       "      <td>1</td>\n",
       "    </tr>\n",
       "    <tr>\n",
       "      <th>7</th>\n",
       "      <td>1833</td>\n",
       "      <td>Hulk (Robert Bruce Banner)</td>\n",
       "      <td>\\/Hulk_(Robert_Bruce_Banner)</td>\n",
       "      <td>Public Identity</td>\n",
       "      <td>Good Characters</td>\n",
       "      <td>Brown Eyes</td>\n",
       "      <td>Brown Hair</td>\n",
       "      <td>Male Characters</td>\n",
       "      <td>NaN</td>\n",
       "      <td>Living Characters</td>\n",
       "      <td>2017.0</td>\n",
       "      <td>May-62</td>\n",
       "      <td>1962.0</td>\n",
       "      <td>1</td>\n",
       "    </tr>\n",
       "    <tr>\n",
       "      <th>9</th>\n",
       "      <td>1837</td>\n",
       "      <td>Jonathan Storm (Earth-616)</td>\n",
       "      <td>\\/Jonathan_Storm_(Earth-616)</td>\n",
       "      <td>Public Identity</td>\n",
       "      <td>Good Characters</td>\n",
       "      <td>Blue Eyes</td>\n",
       "      <td>Blond Hair</td>\n",
       "      <td>Male Characters</td>\n",
       "      <td>NaN</td>\n",
       "      <td>Living Characters</td>\n",
       "      <td>1934.0</td>\n",
       "      <td>Nov-61</td>\n",
       "      <td>1961.0</td>\n",
       "      <td>1</td>\n",
       "    </tr>\n",
       "    <tr>\n",
       "      <th>10</th>\n",
       "      <td>15725</td>\n",
       "      <td>Henry McCoy (Earth-616)</td>\n",
       "      <td>\\/Henry_McCoy_(Earth-616)</td>\n",
       "      <td>Public Identity</td>\n",
       "      <td>Good Characters</td>\n",
       "      <td>Blue Eyes</td>\n",
       "      <td>Blue Hair</td>\n",
       "      <td>Male Characters</td>\n",
       "      <td>NaN</td>\n",
       "      <td>Living Characters</td>\n",
       "      <td>1825.0</td>\n",
       "      <td>Sep-63</td>\n",
       "      <td>1963.0</td>\n",
       "      <td>1</td>\n",
       "    </tr>\n",
       "    <tr>\n",
       "      <th>11</th>\n",
       "      <td>1863</td>\n",
       "      <td>Susan Storm (Earth-616)</td>\n",
       "      <td>\\/Susan_Storm_(Earth-616)</td>\n",
       "      <td>Public Identity</td>\n",
       "      <td>Good Characters</td>\n",
       "      <td>Blue Eyes</td>\n",
       "      <td>Blond Hair</td>\n",
       "      <td>Female Characters</td>\n",
       "      <td>NaN</td>\n",
       "      <td>Living Characters</td>\n",
       "      <td>1713.0</td>\n",
       "      <td>Nov-61</td>\n",
       "      <td>1961.0</td>\n",
       "      <td>1</td>\n",
       "    </tr>\n",
       "    <tr>\n",
       "      <th>13</th>\n",
       "      <td>2614</td>\n",
       "      <td>Ororo Munroe (Earth-616)</td>\n",
       "      <td>\\/Ororo_Munroe_(Earth-616)</td>\n",
       "      <td>Public Identity</td>\n",
       "      <td>Good Characters</td>\n",
       "      <td>Blue Eyes</td>\n",
       "      <td>White Hair</td>\n",
       "      <td>Female Characters</td>\n",
       "      <td>NaN</td>\n",
       "      <td>Living Characters</td>\n",
       "      <td>1512.0</td>\n",
       "      <td>May-75</td>\n",
       "      <td>1975.0</td>\n",
       "      <td>1</td>\n",
       "    </tr>\n",
       "    <tr>\n",
       "      <th>14</th>\n",
       "      <td>1803</td>\n",
       "      <td>Clinton Barton (Earth-616)</td>\n",
       "      <td>\\/Clinton_Barton_(Earth-616)</td>\n",
       "      <td>Public Identity</td>\n",
       "      <td>Good Characters</td>\n",
       "      <td>Blue Eyes</td>\n",
       "      <td>Blond Hair</td>\n",
       "      <td>Male Characters</td>\n",
       "      <td>NaN</td>\n",
       "      <td>Living Characters</td>\n",
       "      <td>1394.0</td>\n",
       "      <td>Sep-64</td>\n",
       "      <td>1964.0</td>\n",
       "      <td>1</td>\n",
       "    </tr>\n",
       "    <tr>\n",
       "      <th>15</th>\n",
       "      <td>1396</td>\n",
       "      <td>Matthew Murdock (Earth-616)</td>\n",
       "      <td>\\/Matthew_Murdock_(Earth-616)</td>\n",
       "      <td>Public Identity</td>\n",
       "      <td>Good Characters</td>\n",
       "      <td>Blue Eyes</td>\n",
       "      <td>Red Hair</td>\n",
       "      <td>Male Characters</td>\n",
       "      <td>NaN</td>\n",
       "      <td>Living Characters</td>\n",
       "      <td>1338.0</td>\n",
       "      <td>Apr-64</td>\n",
       "      <td>1964.0</td>\n",
       "      <td>1</td>\n",
       "    </tr>\n",
       "    <tr>\n",
       "      <th>16</th>\n",
       "      <td>55534</td>\n",
       "      <td>Stephen Strange (Earth-616)</td>\n",
       "      <td>\\/Stephen_Strange_(Earth-616)</td>\n",
       "      <td>Public Identity</td>\n",
       "      <td>Good Characters</td>\n",
       "      <td>Grey Eyes</td>\n",
       "      <td>Black Hair</td>\n",
       "      <td>Male Characters</td>\n",
       "      <td>NaN</td>\n",
       "      <td>Living Characters</td>\n",
       "      <td>1307.0</td>\n",
       "      <td>Jul-63</td>\n",
       "      <td>1963.0</td>\n",
       "      <td>1</td>\n",
       "    </tr>\n",
       "    <tr>\n",
       "      <th>17</th>\n",
       "      <td>1978</td>\n",
       "      <td>Mary Jane Watson (Earth-616)</td>\n",
       "      <td>\\/Mary_Jane_Watson_(Earth-616)</td>\n",
       "      <td>No Dual Identity</td>\n",
       "      <td>Good Characters</td>\n",
       "      <td>Green Eyes</td>\n",
       "      <td>Red Hair</td>\n",
       "      <td>Female Characters</td>\n",
       "      <td>NaN</td>\n",
       "      <td>Living Characters</td>\n",
       "      <td>1304.0</td>\n",
       "      <td>Jun-65</td>\n",
       "      <td>1965.0</td>\n",
       "      <td>1</td>\n",
       "    </tr>\n",
       "    <tr>\n",
       "      <th>19</th>\n",
       "      <td>35350</td>\n",
       "      <td>Robert Drake (Earth-616)</td>\n",
       "      <td>\\/Robert_Drake_(Earth-616)</td>\n",
       "      <td>Secret Identity</td>\n",
       "      <td>Good Characters</td>\n",
       "      <td>Brown Eyes</td>\n",
       "      <td>Brown Hair</td>\n",
       "      <td>Male Characters</td>\n",
       "      <td>NaN</td>\n",
       "      <td>Living Characters</td>\n",
       "      <td>1265.0</td>\n",
       "      <td>Sep-63</td>\n",
       "      <td>1963.0</td>\n",
       "      <td>1</td>\n",
       "    </tr>\n",
       "    <tr>\n",
       "      <th>20</th>\n",
       "      <td>1557</td>\n",
       "      <td>Henry Pym (Earth-616)</td>\n",
       "      <td>\\/Henry_Pym_(Earth-616)</td>\n",
       "      <td>Public Identity</td>\n",
       "      <td>Good Characters</td>\n",
       "      <td>Blue Eyes</td>\n",
       "      <td>Blond Hair</td>\n",
       "      <td>Male Characters</td>\n",
       "      <td>NaN</td>\n",
       "      <td>Living Characters</td>\n",
       "      <td>1237.0</td>\n",
       "      <td>Jan-62</td>\n",
       "      <td>1962.0</td>\n",
       "      <td>1</td>\n",
       "    </tr>\n",
       "    <tr>\n",
       "      <th>21</th>\n",
       "      <td>65255</td>\n",
       "      <td>Charles Xavier (Earth-616)</td>\n",
       "      <td>\\/Charles_Xavier_(Earth-616)</td>\n",
       "      <td>Public Identity</td>\n",
       "      <td>Good Characters</td>\n",
       "      <td>Blue Eyes</td>\n",
       "      <td>Bald</td>\n",
       "      <td>Male Characters</td>\n",
       "      <td>NaN</td>\n",
       "      <td>Deceased Characters</td>\n",
       "      <td>1233.0</td>\n",
       "      <td>Sep-63</td>\n",
       "      <td>1963.0</td>\n",
       "      <td>1</td>\n",
       "    </tr>\n",
       "    <tr>\n",
       "      <th>22</th>\n",
       "      <td>1073</td>\n",
       "      <td>Warren Worthington III (Earth-616)</td>\n",
       "      <td>\\/Warren_Worthington_III_(Earth-616)</td>\n",
       "      <td>Public Identity</td>\n",
       "      <td>Good Characters</td>\n",
       "      <td>Blue Eyes</td>\n",
       "      <td>Blond Hair</td>\n",
       "      <td>Male Characters</td>\n",
       "      <td>NaN</td>\n",
       "      <td>Living Characters</td>\n",
       "      <td>1230.0</td>\n",
       "      <td>Sep-63</td>\n",
       "      <td>1963.0</td>\n",
       "      <td>1</td>\n",
       "    </tr>\n",
       "    <tr>\n",
       "      <th>23</th>\n",
       "      <td>1346</td>\n",
       "      <td>Piotr Rasputin (Earth-616)</td>\n",
       "      <td>\\/Piotr_Rasputin_(Earth-616)</td>\n",
       "      <td>Secret Identity</td>\n",
       "      <td>Good Characters</td>\n",
       "      <td>Blue Eyes</td>\n",
       "      <td>Black Hair</td>\n",
       "      <td>Male Characters</td>\n",
       "      <td>NaN</td>\n",
       "      <td>Living Characters</td>\n",
       "      <td>1162.0</td>\n",
       "      <td>May-75</td>\n",
       "      <td>1975.0</td>\n",
       "      <td>1</td>\n",
       "    </tr>\n",
       "    <tr>\n",
       "      <th>24</th>\n",
       "      <td>2512</td>\n",
       "      <td>Wanda Maximoff (Earth-616)</td>\n",
       "      <td>\\/Wanda_Maximoff_(Earth-616)</td>\n",
       "      <td>Public Identity</td>\n",
       "      <td>Good Characters</td>\n",
       "      <td>Green Eyes</td>\n",
       "      <td>Brown Hair</td>\n",
       "      <td>Female Characters</td>\n",
       "      <td>NaN</td>\n",
       "      <td>Living Characters</td>\n",
       "      <td>1161.0</td>\n",
       "      <td>Mar-64</td>\n",
       "      <td>1964.0</td>\n",
       "      <td>1</td>\n",
       "    </tr>\n",
       "    <tr>\n",
       "      <th>26</th>\n",
       "      <td>1976</td>\n",
       "      <td>Janet van Dyne (Earth-616)</td>\n",
       "      <td>\\/Janet_van_Dyne_(Earth-616)</td>\n",
       "      <td>Public Identity</td>\n",
       "      <td>Good Characters</td>\n",
       "      <td>Blue Eyes</td>\n",
       "      <td>Auburn Hair</td>\n",
       "      <td>Female Characters</td>\n",
       "      <td>NaN</td>\n",
       "      <td>Living Characters</td>\n",
       "      <td>1120.0</td>\n",
       "      <td>Jun-63</td>\n",
       "      <td>1963.0</td>\n",
       "      <td>1</td>\n",
       "    </tr>\n",
       "    <tr>\n",
       "      <th>27</th>\n",
       "      <td>65219</td>\n",
       "      <td>Jean Grey (Earth-616)</td>\n",
       "      <td>\\/Jean_Grey_(Earth-616)</td>\n",
       "      <td>Public Identity</td>\n",
       "      <td>Good Characters</td>\n",
       "      <td>Green Eyes</td>\n",
       "      <td>Red Hair</td>\n",
       "      <td>Female Characters</td>\n",
       "      <td>NaN</td>\n",
       "      <td>Deceased Characters</td>\n",
       "      <td>1107.0</td>\n",
       "      <td>Sep-63</td>\n",
       "      <td>1963.0</td>\n",
       "      <td>1</td>\n",
       "    </tr>\n",
       "    <tr>\n",
       "      <th>28</th>\n",
       "      <td>6545</td>\n",
       "      <td>Natalia Romanova (Earth-616)</td>\n",
       "      <td>\\/Natalia_Romanova_(Earth-616)</td>\n",
       "      <td>Public Identity</td>\n",
       "      <td>Good Characters</td>\n",
       "      <td>Green Eyes</td>\n",
       "      <td>Red Hair</td>\n",
       "      <td>Female Characters</td>\n",
       "      <td>Bisexual Characters</td>\n",
       "      <td>Living Characters</td>\n",
       "      <td>1050.0</td>\n",
       "      <td>Apr-64</td>\n",
       "      <td>1964.0</td>\n",
       "      <td>1</td>\n",
       "    </tr>\n",
       "    <tr>\n",
       "      <th>29</th>\n",
       "      <td>2223</td>\n",
       "      <td>Kurt Wagner (Earth-616)</td>\n",
       "      <td>\\/Kurt_Wagner_(Earth-616)</td>\n",
       "      <td>Secret Identity</td>\n",
       "      <td>Good Characters</td>\n",
       "      <td>Yellow Eyes</td>\n",
       "      <td>Blue Hair</td>\n",
       "      <td>Male Characters</td>\n",
       "      <td>NaN</td>\n",
       "      <td>Living Characters</td>\n",
       "      <td>1047.0</td>\n",
       "      <td>May-75</td>\n",
       "      <td>1975.0</td>\n",
       "      <td>1</td>\n",
       "    </tr>\n",
       "    <tr>\n",
       "      <th>30</th>\n",
       "      <td>2414</td>\n",
       "      <td>Vision (Earth-616)</td>\n",
       "      <td>\\/Vision_(Earth-616)</td>\n",
       "      <td>Secret Identity</td>\n",
       "      <td>Good Characters</td>\n",
       "      <td>Gold Eyes</td>\n",
       "      <td>No Hair</td>\n",
       "      <td>Male Characters</td>\n",
       "      <td>NaN</td>\n",
       "      <td>Living Characters</td>\n",
       "      <td>1007.0</td>\n",
       "      <td>Oct-68</td>\n",
       "      <td>1968.0</td>\n",
       "      <td>1</td>\n",
       "    </tr>\n",
       "    <tr>\n",
       "      <th>31</th>\n",
       "      <td>8650</td>\n",
       "      <td>May Reilly (Earth-616)</td>\n",
       "      <td>\\/May_Reilly_(Earth-616)</td>\n",
       "      <td>No Dual Identity</td>\n",
       "      <td>Good Characters</td>\n",
       "      <td>Blue Eyes</td>\n",
       "      <td>Grey Hair</td>\n",
       "      <td>Female Characters</td>\n",
       "      <td>NaN</td>\n",
       "      <td>Living Characters</td>\n",
       "      <td>1000.0</td>\n",
       "      <td>Aug-62</td>\n",
       "      <td>1962.0</td>\n",
       "      <td>1</td>\n",
       "    </tr>\n",
       "    <tr>\n",
       "      <th>32</th>\n",
       "      <td>2527</td>\n",
       "      <td>Katherine Pryde (Earth-616)</td>\n",
       "      <td>\\/Katherine_Pryde_(Earth-616)</td>\n",
       "      <td>Secret Identity</td>\n",
       "      <td>Good Characters</td>\n",
       "      <td>Hazel Eyes</td>\n",
       "      <td>Brown Hair</td>\n",
       "      <td>Female Characters</td>\n",
       "      <td>NaN</td>\n",
       "      <td>Living Characters</td>\n",
       "      <td>886.0</td>\n",
       "      <td>Jan-80</td>\n",
       "      <td>1980.0</td>\n",
       "      <td>1</td>\n",
       "    </tr>\n",
       "    <tr>\n",
       "      <th>33</th>\n",
       "      <td>1970</td>\n",
       "      <td>Carol Danvers (Earth-616)</td>\n",
       "      <td>\\/Carol_Danvers_(Earth-616)</td>\n",
       "      <td>Public Identity</td>\n",
       "      <td>Good Characters</td>\n",
       "      <td>Blue Eyes</td>\n",
       "      <td>Blond Hair</td>\n",
       "      <td>Female Characters</td>\n",
       "      <td>NaN</td>\n",
       "      <td>Living Characters</td>\n",
       "      <td>881.0</td>\n",
       "      <td>Mar-68</td>\n",
       "      <td>1968.0</td>\n",
       "      <td>1</td>\n",
       "    </tr>\n",
       "    <tr>\n",
       "      <th>34</th>\n",
       "      <td>37690</td>\n",
       "      <td>Jennifer Walters (Earth-616)</td>\n",
       "      <td>\\/Jennifer_Walters_(Earth-616)</td>\n",
       "      <td>Public Identity</td>\n",
       "      <td>Good Characters</td>\n",
       "      <td>Green Eyes</td>\n",
       "      <td>Brown Hair</td>\n",
       "      <td>Female Characters</td>\n",
       "      <td>NaN</td>\n",
       "      <td>Living Characters</td>\n",
       "      <td>881.0</td>\n",
       "      <td>Feb-80</td>\n",
       "      <td>1980.0</td>\n",
       "      <td>1</td>\n",
       "    </tr>\n",
       "  </tbody>\n",
       "</table>\n",
       "</div>"
      ],
      "text/plain": [
       "    page_id                                name  \\\n",
       "0      1678           Spider-Man (Peter Parker)   \n",
       "1      7139     Captain America (Steven Rogers)   \n",
       "3      1868   Iron Man (Anthony \\\"Tony\\\" Stark)   \n",
       "4      2460                 Thor (Thor Odinson)   \n",
       "5      2458          Benjamin Grimm (Earth-616)   \n",
       "6      2166           Reed Richards (Earth-616)   \n",
       "7      1833          Hulk (Robert Bruce Banner)   \n",
       "9      1837          Jonathan Storm (Earth-616)   \n",
       "10    15725             Henry McCoy (Earth-616)   \n",
       "11     1863             Susan Storm (Earth-616)   \n",
       "13     2614            Ororo Munroe (Earth-616)   \n",
       "14     1803          Clinton Barton (Earth-616)   \n",
       "15     1396         Matthew Murdock (Earth-616)   \n",
       "16    55534         Stephen Strange (Earth-616)   \n",
       "17     1978        Mary Jane Watson (Earth-616)   \n",
       "19    35350            Robert Drake (Earth-616)   \n",
       "20     1557               Henry Pym (Earth-616)   \n",
       "21    65255          Charles Xavier (Earth-616)   \n",
       "22     1073  Warren Worthington III (Earth-616)   \n",
       "23     1346          Piotr Rasputin (Earth-616)   \n",
       "24     2512          Wanda Maximoff (Earth-616)   \n",
       "26     1976          Janet van Dyne (Earth-616)   \n",
       "27    65219               Jean Grey (Earth-616)   \n",
       "28     6545        Natalia Romanova (Earth-616)   \n",
       "29     2223             Kurt Wagner (Earth-616)   \n",
       "30     2414                  Vision (Earth-616)   \n",
       "31     8650              May Reilly (Earth-616)   \n",
       "32     2527         Katherine Pryde (Earth-616)   \n",
       "33     1970           Carol Danvers (Earth-616)   \n",
       "34    37690        Jennifer Walters (Earth-616)   \n",
       "\n",
       "                                  urlslug                ID            ALIGN  \\\n",
       "0             \\/Spider-Man_(Peter_Parker)   Secret Identity  Good Characters   \n",
       "1       \\/Captain_America_(Steven_Rogers)   Public Identity  Good Characters   \n",
       "3   \\/Iron_Man_(Anthony_%22Tony%22_Stark)   Public Identity  Good Characters   \n",
       "4                   \\/Thor_(Thor_Odinson)  No Dual Identity  Good Characters   \n",
       "5            \\/Benjamin_Grimm_(Earth-616)   Public Identity  Good Characters   \n",
       "6             \\/Reed_Richards_(Earth-616)   Public Identity  Good Characters   \n",
       "7            \\/Hulk_(Robert_Bruce_Banner)   Public Identity  Good Characters   \n",
       "9            \\/Jonathan_Storm_(Earth-616)   Public Identity  Good Characters   \n",
       "10              \\/Henry_McCoy_(Earth-616)   Public Identity  Good Characters   \n",
       "11              \\/Susan_Storm_(Earth-616)   Public Identity  Good Characters   \n",
       "13             \\/Ororo_Munroe_(Earth-616)   Public Identity  Good Characters   \n",
       "14           \\/Clinton_Barton_(Earth-616)   Public Identity  Good Characters   \n",
       "15          \\/Matthew_Murdock_(Earth-616)   Public Identity  Good Characters   \n",
       "16          \\/Stephen_Strange_(Earth-616)   Public Identity  Good Characters   \n",
       "17         \\/Mary_Jane_Watson_(Earth-616)  No Dual Identity  Good Characters   \n",
       "19             \\/Robert_Drake_(Earth-616)   Secret Identity  Good Characters   \n",
       "20                \\/Henry_Pym_(Earth-616)   Public Identity  Good Characters   \n",
       "21           \\/Charles_Xavier_(Earth-616)   Public Identity  Good Characters   \n",
       "22   \\/Warren_Worthington_III_(Earth-616)   Public Identity  Good Characters   \n",
       "23           \\/Piotr_Rasputin_(Earth-616)   Secret Identity  Good Characters   \n",
       "24           \\/Wanda_Maximoff_(Earth-616)   Public Identity  Good Characters   \n",
       "26           \\/Janet_van_Dyne_(Earth-616)   Public Identity  Good Characters   \n",
       "27                \\/Jean_Grey_(Earth-616)   Public Identity  Good Characters   \n",
       "28         \\/Natalia_Romanova_(Earth-616)   Public Identity  Good Characters   \n",
       "29              \\/Kurt_Wagner_(Earth-616)   Secret Identity  Good Characters   \n",
       "30                   \\/Vision_(Earth-616)   Secret Identity  Good Characters   \n",
       "31               \\/May_Reilly_(Earth-616)  No Dual Identity  Good Characters   \n",
       "32          \\/Katherine_Pryde_(Earth-616)   Secret Identity  Good Characters   \n",
       "33            \\/Carol_Danvers_(Earth-616)   Public Identity  Good Characters   \n",
       "34         \\/Jennifer_Walters_(Earth-616)   Public Identity  Good Characters   \n",
       "\n",
       "            EYE         HAIR                SEX                  GSM  \\\n",
       "0    Hazel Eyes   Brown Hair    Male Characters                  NaN   \n",
       "1     Blue Eyes   White Hair    Male Characters                  NaN   \n",
       "3     Blue Eyes   Black Hair    Male Characters                  NaN   \n",
       "4     Blue Eyes   Blond Hair    Male Characters                  NaN   \n",
       "5     Blue Eyes      No Hair    Male Characters                  NaN   \n",
       "6    Brown Eyes   Brown Hair    Male Characters                  NaN   \n",
       "7    Brown Eyes   Brown Hair    Male Characters                  NaN   \n",
       "9     Blue Eyes   Blond Hair    Male Characters                  NaN   \n",
       "10    Blue Eyes    Blue Hair    Male Characters                  NaN   \n",
       "11    Blue Eyes   Blond Hair  Female Characters                  NaN   \n",
       "13    Blue Eyes   White Hair  Female Characters                  NaN   \n",
       "14    Blue Eyes   Blond Hair    Male Characters                  NaN   \n",
       "15    Blue Eyes     Red Hair    Male Characters                  NaN   \n",
       "16    Grey Eyes   Black Hair    Male Characters                  NaN   \n",
       "17   Green Eyes     Red Hair  Female Characters                  NaN   \n",
       "19   Brown Eyes   Brown Hair    Male Characters                  NaN   \n",
       "20    Blue Eyes   Blond Hair    Male Characters                  NaN   \n",
       "21    Blue Eyes         Bald    Male Characters                  NaN   \n",
       "22    Blue Eyes   Blond Hair    Male Characters                  NaN   \n",
       "23    Blue Eyes   Black Hair    Male Characters                  NaN   \n",
       "24   Green Eyes   Brown Hair  Female Characters                  NaN   \n",
       "26    Blue Eyes  Auburn Hair  Female Characters                  NaN   \n",
       "27   Green Eyes     Red Hair  Female Characters                  NaN   \n",
       "28   Green Eyes     Red Hair  Female Characters  Bisexual Characters   \n",
       "29  Yellow Eyes    Blue Hair    Male Characters                  NaN   \n",
       "30    Gold Eyes      No Hair    Male Characters                  NaN   \n",
       "31    Blue Eyes    Grey Hair  Female Characters                  NaN   \n",
       "32   Hazel Eyes   Brown Hair  Female Characters                  NaN   \n",
       "33    Blue Eyes   Blond Hair  Female Characters                  NaN   \n",
       "34   Green Eyes   Brown Hair  Female Characters                  NaN   \n",
       "\n",
       "                  ALIVE  APPEARANCES FIRST APPEARANCE    YEAR  is_marvel  \n",
       "0     Living Characters       4043.0           Aug-62  1962.0          1  \n",
       "1     Living Characters       3360.0           Mar-41  1941.0          1  \n",
       "3     Living Characters       2961.0           Mar-63  1963.0          1  \n",
       "4     Living Characters       2258.0           Nov-50  1950.0          1  \n",
       "5     Living Characters       2255.0           Nov-61  1961.0          1  \n",
       "6     Living Characters       2072.0           Nov-61  1961.0          1  \n",
       "7     Living Characters       2017.0           May-62  1962.0          1  \n",
       "9     Living Characters       1934.0           Nov-61  1961.0          1  \n",
       "10    Living Characters       1825.0           Sep-63  1963.0          1  \n",
       "11    Living Characters       1713.0           Nov-61  1961.0          1  \n",
       "13    Living Characters       1512.0           May-75  1975.0          1  \n",
       "14    Living Characters       1394.0           Sep-64  1964.0          1  \n",
       "15    Living Characters       1338.0           Apr-64  1964.0          1  \n",
       "16    Living Characters       1307.0           Jul-63  1963.0          1  \n",
       "17    Living Characters       1304.0           Jun-65  1965.0          1  \n",
       "19    Living Characters       1265.0           Sep-63  1963.0          1  \n",
       "20    Living Characters       1237.0           Jan-62  1962.0          1  \n",
       "21  Deceased Characters       1233.0           Sep-63  1963.0          1  \n",
       "22    Living Characters       1230.0           Sep-63  1963.0          1  \n",
       "23    Living Characters       1162.0           May-75  1975.0          1  \n",
       "24    Living Characters       1161.0           Mar-64  1964.0          1  \n",
       "26    Living Characters       1120.0           Jun-63  1963.0          1  \n",
       "27  Deceased Characters       1107.0           Sep-63  1963.0          1  \n",
       "28    Living Characters       1050.0           Apr-64  1964.0          1  \n",
       "29    Living Characters       1047.0           May-75  1975.0          1  \n",
       "30    Living Characters       1007.0           Oct-68  1968.0          1  \n",
       "31    Living Characters       1000.0           Aug-62  1962.0          1  \n",
       "32    Living Characters        886.0           Jan-80  1980.0          1  \n",
       "33    Living Characters        881.0           Mar-68  1968.0          1  \n",
       "34    Living Characters        881.0           Feb-80  1980.0          1  "
      ]
     },
     "execution_count": 11,
     "metadata": {},
     "output_type": "execute_result"
    }
   ],
   "source": [
    "df[df['ALIGN'] == 'Good Characters'].head(30)"
   ]
  },
  {
   "cell_type": "code",
   "execution_count": 12,
   "metadata": {},
   "outputs": [
    {
     "data": {
      "image/png": "[encoded data removed]",
      "text/plain": [
       "<Figure size 432x288 with 1 Axes>"
      ]
     },
     "metadata": {
      "needs_background": "light"
     },
     "output_type": "display_data"
    }
   ],
   "source": [
    "g=sns.countplot(x='ALIGN', data=df, order = df['ALIGN'].value_counts().index) # sns.displot(df, x=\"EYE\")\n",
    "plt.xticks(rotation=0)\n",
    "plt.xlabel('Character alignment', size = 12)\n",
    "plt.xlabel('Count', size = 12)\n",
    "plt.title('Character alignment counts');"
   ]
  },
  {
   "cell_type": "code",
   "execution_count": 13,
   "metadata": {},
   "outputs": [
    {
     "data": {
      "image/png": "[encoded data removed]",
      "text/plain": [
       "<Figure size 432x288 with 1 Axes>"
      ]
     },
     "metadata": {
      "needs_background": "light"
     },
     "output_type": "display_data"
    }
   ],
   "source": [
    "MF = df.loc[(df['SEX']=='Male Characters')|(df['SEX']=='Female Characters')]\n",
    "\n",
    "sns.barplot(x='SEX', y = 'APPEARANCES', data = MF)\n",
    "plt.title('Character gender counts', size = 15)\n",
    "plt.xlabel('Gender')\n",
    "plt.ylabel('Avg number of appearances')\n",
    "plt.xticks(rotation=0);\n"
   ]
  },
  {
   "cell_type": "code",
   "execution_count": 14,
   "metadata": {},
   "outputs": [
    {
     "name": "stderr",
     "output_type": "stream",
     "text": [
      "/Users/noah/opt/anaconda3/lib/python3.7/site-packages/seaborn/distributions.py:2551: FutureWarning: `distplot` is a deprecated function and will be removed in a future version. Please adapt your code to use either `displot` (a figure-level function with similar flexibility) or `histplot` (an axes-level function for histograms).\n",
      "  warnings.warn(msg, FutureWarning)\n"
     ]
    },
    {
     "data": {
      "image/png": "[encoded data removed]",
      "text/plain": [
       "<Figure size 432x288 with 1 Axes>"
      ]
     },
     "metadata": {
      "needs_background": "light"
     },
     "output_type": "display_data"
    }
   ],
   "source": [
    "sns.distplot(df['APPEARANCES'])\n",
    "plt.title('Distribution of appearances');"
   ]
  },
  {
   "cell_type": "markdown",
   "metadata": {},
   "source": [
    "# Exporting"
   ]
  },
  {
   "cell_type": "code",
   "execution_count": 754,
   "metadata": {
    "ExecuteTime": {
     "end_time": "2020-10-20T15:29:36.084158Z",
     "start_time": "2020-10-20T15:29:36.020859Z"
    }
   },
   "outputs": [],
   "source": [
    "filename = 'superhero_data_for_model_10-20-20_PICKLE'\n",
    "outfile = open(filename,'wb')\n",
    "pickle.dump(df,outfile)\n",
    "outfile.close()\n"
   ]
  },
  {
   "cell_type": "code",
   "execution_count": 15,
   "metadata": {},
   "outputs": [],
   "source": [
    "df.to_csv(r'superhero_10-26-20.csv')"
   ]
  },
  {
   "cell_type": "markdown",
   "metadata": {},
   "source": [
    "## and only characters with >200 appearances"
   ]
  },
  {
   "cell_type": "code",
   "execution_count": 29,
   "metadata": {},
   "outputs": [
    {
     "data": {
      "text/html": [
       "<div>\n",
       "<style scoped>\n",
       "    .dataframe tbody tr th:only-of-type {\n",
       "        vertical-align: middle;\n",
       "    }\n",
       "\n",
       "    .dataframe tbody tr th {\n",
       "        vertical-align: top;\n",
       "    }\n",
       "\n",
       "    .dataframe thead th {\n",
       "        text-align: right;\n",
       "    }\n",
       "</style>\n",
       "<table border=\"1\" class=\"dataframe\">\n",
       "  <thead>\n",
       "    <tr style=\"text-align: right;\">\n",
       "      <th></th>\n",
       "      <th>page_id</th>\n",
       "      <th>name</th>\n",
       "      <th>urlslug</th>\n",
       "      <th>ID</th>\n",
       "      <th>ALIGN</th>\n",
       "      <th>EYE</th>\n",
       "      <th>HAIR</th>\n",
       "      <th>SEX</th>\n",
       "      <th>GSM</th>\n",
       "      <th>ALIVE</th>\n",
       "      <th>APPEARANCES</th>\n",
       "      <th>FIRST APPEARANCE</th>\n",
       "      <th>YEAR</th>\n",
       "      <th>is_marvel</th>\n",
       "    </tr>\n",
       "  </thead>\n",
       "  <tbody>\n",
       "    <tr>\n",
       "      <th>0</th>\n",
       "      <td>1678</td>\n",
       "      <td>Spider-Man (Peter Parker)</td>\n",
       "      <td>\\/Spider-Man_(Peter_Parker)</td>\n",
       "      <td>Secret Identity</td>\n",
       "      <td>Good Characters</td>\n",
       "      <td>Hazel Eyes</td>\n",
       "      <td>Brown Hair</td>\n",
       "      <td>Male Characters</td>\n",
       "      <td>NaN</td>\n",
       "      <td>Living Characters</td>\n",
       "      <td>4043.0</td>\n",
       "      <td>Aug-62</td>\n",
       "      <td>1962.0</td>\n",
       "      <td>1</td>\n",
       "    </tr>\n",
       "    <tr>\n",
       "      <th>1</th>\n",
       "      <td>7139</td>\n",
       "      <td>Captain America (Steven Rogers)</td>\n",
       "      <td>\\/Captain_America_(Steven_Rogers)</td>\n",
       "      <td>Public Identity</td>\n",
       "      <td>Good Characters</td>\n",
       "      <td>Blue Eyes</td>\n",
       "      <td>White Hair</td>\n",
       "      <td>Male Characters</td>\n",
       "      <td>NaN</td>\n",
       "      <td>Living Characters</td>\n",
       "      <td>3360.0</td>\n",
       "      <td>Mar-41</td>\n",
       "      <td>1941.0</td>\n",
       "      <td>1</td>\n",
       "    </tr>\n",
       "    <tr>\n",
       "      <th>16376</th>\n",
       "      <td>1422</td>\n",
       "      <td>Batman (Bruce Wayne)</td>\n",
       "      <td>\\/wiki\\/Batman_(Bruce_Wayne)</td>\n",
       "      <td>Secret Identity</td>\n",
       "      <td>Good Characters</td>\n",
       "      <td>Blue Eyes</td>\n",
       "      <td>Black Hair</td>\n",
       "      <td>Male Characters</td>\n",
       "      <td>NaN</td>\n",
       "      <td>Living Characters</td>\n",
       "      <td>3093.0</td>\n",
       "      <td>1939, May</td>\n",
       "      <td>1939.0</td>\n",
       "      <td>0</td>\n",
       "    </tr>\n",
       "    <tr>\n",
       "      <th>2</th>\n",
       "      <td>64786</td>\n",
       "      <td>Wolverine (James \\\"Logan\\\" Howlett)</td>\n",
       "      <td>\\/Wolverine_(James_%22Logan%22_Howlett)</td>\n",
       "      <td>Public Identity</td>\n",
       "      <td>Neutral Characters</td>\n",
       "      <td>Blue Eyes</td>\n",
       "      <td>Black Hair</td>\n",
       "      <td>Male Characters</td>\n",
       "      <td>NaN</td>\n",
       "      <td>Living Characters</td>\n",
       "      <td>3061.0</td>\n",
       "      <td>Oct-74</td>\n",
       "      <td>1974.0</td>\n",
       "      <td>1</td>\n",
       "    </tr>\n",
       "    <tr>\n",
       "      <th>3</th>\n",
       "      <td>1868</td>\n",
       "      <td>Iron Man (Anthony \\\"Tony\\\" Stark)</td>\n",
       "      <td>\\/Iron_Man_(Anthony_%22Tony%22_Stark)</td>\n",
       "      <td>Public Identity</td>\n",
       "      <td>Good Characters</td>\n",
       "      <td>Blue Eyes</td>\n",
       "      <td>Black Hair</td>\n",
       "      <td>Male Characters</td>\n",
       "      <td>NaN</td>\n",
       "      <td>Living Characters</td>\n",
       "      <td>2961.0</td>\n",
       "      <td>Mar-63</td>\n",
       "      <td>1963.0</td>\n",
       "      <td>1</td>\n",
       "    </tr>\n",
       "    <tr>\n",
       "      <th>...</th>\n",
       "      <td>...</td>\n",
       "      <td>...</td>\n",
       "      <td>...</td>\n",
       "      <td>...</td>\n",
       "      <td>...</td>\n",
       "      <td>...</td>\n",
       "      <td>...</td>\n",
       "      <td>...</td>\n",
       "      <td>...</td>\n",
       "      <td>...</td>\n",
       "      <td>...</td>\n",
       "      <td>...</td>\n",
       "      <td>...</td>\n",
       "      <td>...</td>\n",
       "    </tr>\n",
       "    <tr>\n",
       "      <th>65</th>\n",
       "      <td>6194</td>\n",
       "      <td>James Rhodes (Earth-616)</td>\n",
       "      <td>\\/James_Rhodes_(Earth-616)</td>\n",
       "      <td>Secret Identity</td>\n",
       "      <td>Good Characters</td>\n",
       "      <td>Brown Eyes</td>\n",
       "      <td>Brown Hair</td>\n",
       "      <td>Male Characters</td>\n",
       "      <td>NaN</td>\n",
       "      <td>Living Characters</td>\n",
       "      <td>525.0</td>\n",
       "      <td>Jan-79</td>\n",
       "      <td>1979.0</td>\n",
       "      <td>1</td>\n",
       "    </tr>\n",
       "    <tr>\n",
       "      <th>66</th>\n",
       "      <td>1487</td>\n",
       "      <td>Timothy Dugan (Earth-616)</td>\n",
       "      <td>\\/Timothy_Dugan_(Earth-616)</td>\n",
       "      <td>Public Identity</td>\n",
       "      <td>Good Characters</td>\n",
       "      <td>Blue Eyes</td>\n",
       "      <td>Red Hair</td>\n",
       "      <td>Male Characters</td>\n",
       "      <td>NaN</td>\n",
       "      <td>Deceased Characters</td>\n",
       "      <td>517.0</td>\n",
       "      <td>May-63</td>\n",
       "      <td>1963.0</td>\n",
       "      <td>1</td>\n",
       "    </tr>\n",
       "    <tr>\n",
       "      <th>16406</th>\n",
       "      <td>1455</td>\n",
       "      <td>Joker (New Earth)</td>\n",
       "      <td>\\/wiki\\/Joker_(New_Earth)</td>\n",
       "      <td>Secret Identity</td>\n",
       "      <td>Bad Characters</td>\n",
       "      <td>Green Eyes</td>\n",
       "      <td>Green Hair</td>\n",
       "      <td>Male Characters</td>\n",
       "      <td>NaN</td>\n",
       "      <td>Living Characters</td>\n",
       "      <td>517.0</td>\n",
       "      <td>1940, June</td>\n",
       "      <td>1940.0</td>\n",
       "      <td>0</td>\n",
       "    </tr>\n",
       "    <tr>\n",
       "      <th>68</th>\n",
       "      <td>1613</td>\n",
       "      <td>Samuel Wilson (Earth-616)</td>\n",
       "      <td>\\/Samuel_Wilson_(Earth-616)</td>\n",
       "      <td>Public Identity</td>\n",
       "      <td>Good Characters</td>\n",
       "      <td>Brown Eyes</td>\n",
       "      <td>Black Hair</td>\n",
       "      <td>Male Characters</td>\n",
       "      <td>NaN</td>\n",
       "      <td>Living Characters</td>\n",
       "      <td>512.0</td>\n",
       "      <td>Sep-69</td>\n",
       "      <td>1969.0</td>\n",
       "      <td>1</td>\n",
       "    </tr>\n",
       "    <tr>\n",
       "      <th>67</th>\n",
       "      <td>1380</td>\n",
       "      <td>Crystalia Amaquelin (Earth-616)</td>\n",
       "      <td>\\/Crystalia_Amaquelin_(Earth-616)</td>\n",
       "      <td>Public Identity</td>\n",
       "      <td>Good Characters</td>\n",
       "      <td>Green Eyes</td>\n",
       "      <td>Strawberry Blond Hair</td>\n",
       "      <td>Female Characters</td>\n",
       "      <td>NaN</td>\n",
       "      <td>Living Characters</td>\n",
       "      <td>512.0</td>\n",
       "      <td>Dec-65</td>\n",
       "      <td>1965.0</td>\n",
       "      <td>1</td>\n",
       "    </tr>\n",
       "  </tbody>\n",
       "</table>\n",
       "<p>100 rows × 14 columns</p>\n",
       "</div>"
      ],
      "text/plain": [
       "       page_id                                 name  \\\n",
       "0         1678            Spider-Man (Peter Parker)   \n",
       "1         7139      Captain America (Steven Rogers)   \n",
       "16376     1422                 Batman (Bruce Wayne)   \n",
       "2        64786  Wolverine (James \\\"Logan\\\" Howlett)   \n",
       "3         1868    Iron Man (Anthony \\\"Tony\\\" Stark)   \n",
       "...        ...                                  ...   \n",
       "65        6194             James Rhodes (Earth-616)   \n",
       "66        1487            Timothy Dugan (Earth-616)   \n",
       "16406     1455                    Joker (New Earth)   \n",
       "68        1613            Samuel Wilson (Earth-616)   \n",
       "67        1380      Crystalia Amaquelin (Earth-616)   \n",
       "\n",
       "                                       urlslug               ID  \\\n",
       "0                  \\/Spider-Man_(Peter_Parker)  Secret Identity   \n",
       "1            \\/Captain_America_(Steven_Rogers)  Public Identity   \n",
       "16376             \\/wiki\\/Batman_(Bruce_Wayne)  Secret Identity   \n",
       "2      \\/Wolverine_(James_%22Logan%22_Howlett)  Public Identity   \n",
       "3        \\/Iron_Man_(Anthony_%22Tony%22_Stark)  Public Identity   \n",
       "...                                        ...              ...   \n",
       "65                  \\/James_Rhodes_(Earth-616)  Secret Identity   \n",
       "66                 \\/Timothy_Dugan_(Earth-616)  Public Identity   \n",
       "16406                \\/wiki\\/Joker_(New_Earth)  Secret Identity   \n",
       "68                 \\/Samuel_Wilson_(Earth-616)  Public Identity   \n",
       "67           \\/Crystalia_Amaquelin_(Earth-616)  Public Identity   \n",
       "\n",
       "                    ALIGN         EYE                   HAIR  \\\n",
       "0         Good Characters  Hazel Eyes             Brown Hair   \n",
       "1         Good Characters   Blue Eyes             White Hair   \n",
       "16376     Good Characters   Blue Eyes             Black Hair   \n",
       "2      Neutral Characters   Blue Eyes             Black Hair   \n",
       "3         Good Characters   Blue Eyes             Black Hair   \n",
       "...                   ...         ...                    ...   \n",
       "65        Good Characters  Brown Eyes             Brown Hair   \n",
       "66        Good Characters   Blue Eyes               Red Hair   \n",
       "16406      Bad Characters  Green Eyes             Green Hair   \n",
       "68        Good Characters  Brown Eyes             Black Hair   \n",
       "67        Good Characters  Green Eyes  Strawberry Blond Hair   \n",
       "\n",
       "                     SEX  GSM                ALIVE  APPEARANCES  \\\n",
       "0        Male Characters  NaN    Living Characters       4043.0   \n",
       "1        Male Characters  NaN    Living Characters       3360.0   \n",
       "16376    Male Characters  NaN    Living Characters       3093.0   \n",
       "2        Male Characters  NaN    Living Characters       3061.0   \n",
       "3        Male Characters  NaN    Living Characters       2961.0   \n",
       "...                  ...  ...                  ...          ...   \n",
       "65       Male Characters  NaN    Living Characters        525.0   \n",
       "66       Male Characters  NaN  Deceased Characters        517.0   \n",
       "16406    Male Characters  NaN    Living Characters        517.0   \n",
       "68       Male Characters  NaN    Living Characters        512.0   \n",
       "67     Female Characters  NaN    Living Characters        512.0   \n",
       "\n",
       "      FIRST APPEARANCE    YEAR  is_marvel  \n",
       "0               Aug-62  1962.0          1  \n",
       "1               Mar-41  1941.0          1  \n",
       "16376        1939, May  1939.0          0  \n",
       "2               Oct-74  1974.0          1  \n",
       "3               Mar-63  1963.0          1  \n",
       "...                ...     ...        ...  \n",
       "65              Jan-79  1979.0          1  \n",
       "66              May-63  1963.0          1  \n",
       "16406       1940, June  1940.0          0  \n",
       "68              Sep-69  1969.0          1  \n",
       "67              Dec-65  1965.0          1  \n",
       "\n",
       "[100 rows x 14 columns]"
      ]
     },
     "execution_count": 29,
     "metadata": {},
     "output_type": "execute_result"
    }
   ],
   "source": [
    "df.sort_values(by='APPEARANCES', ascending=False).head(100)"
   ]
  },
  {
   "cell_type": "code",
   "execution_count": 31,
   "metadata": {},
   "outputs": [],
   "source": [
    "df_200appear = df.loc[df['APPEARANCES'] >= 200]"
   ]
  },
  {
   "cell_type": "code",
   "execution_count": 32,
   "metadata": {},
   "outputs": [],
   "source": [
    "df_200appear.to_csv(r'df_200appear_10-27-20.csv')"
   ]
  },
  {
   "cell_type": "code",
   "execution_count": 37,
   "metadata": {},
   "outputs": [],
   "source": [
    "df_top50 = df.sort_values(by = 'APPEARANCES', ascending=False).head(50)"
   ]
  },
  {
   "cell_type": "code",
   "execution_count": 39,
   "metadata": {},
   "outputs": [
    {
     "data": {
      "text/plain": [
       "(50, 14)"
      ]
     },
     "execution_count": 39,
     "metadata": {},
     "output_type": "execute_result"
    }
   ],
   "source": [
    "df_top50.shape"
   ]
  },
  {
   "cell_type": "code",
   "execution_count": 40,
   "metadata": {},
   "outputs": [],
   "source": [
    "df_top50.to_csv(r'df_top50_10-27-20.csv')"
   ]
  },
  {
   "cell_type": "code",
   "execution_count": null,
   "metadata": {},
   "outputs": [],
   "source": []
  }
 ],
 "metadata": {
  "kernelspec": {
   "display_name": "Python 3",
   "language": "python",
   "name": "python3"
  },
  "language_info": {
   "codemirror_mode": {
    "name": "ipython",
    "version": 3
   },
   "file_extension": ".py",
   "mimetype": "text/x-python",
   "name": "python",
   "nbconvert_exporter": "python",
   "pygments_lexer": "ipython3",
   "version": "3.7.7"
  },
  "toc": {
   "base_numbering": 1,
   "nav_menu": {},
   "number_sections": false,
   "sideBar": true,
   "skip_h1_title": false,
   "title_cell": "Table of Contents",
   "title_sidebar": "Contents",
   "toc_cell": false,
   "toc_position": {
    "height": "calc(100% - 180px)",
    "left": "10px",
    "top": "150px",
    "width": "165px"
   },
   "toc_section_display": true,
   "toc_window_display": true
  },
  "toc-showcode": false
 },
 "nbformat": 4,
 "nbformat_minor": 4
}
